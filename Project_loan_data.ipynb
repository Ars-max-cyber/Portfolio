{
 "cells": [
  {
   "cell_type": "code",
   "execution_count": 1,
   "id": "0501ba1f-7037-438a-a046-3f375dcb0321",
   "metadata": {},
   "outputs": [],
   "source": [
    "import numpy as np\n",
    "np.set_printoptions(suppress = True , linewidth= 100, precision = 2)"
   ]
  },
  {
   "cell_type": "code",
   "execution_count": 2,
   "id": "90e973a6-849e-4ae8-a749-95a1e18baca5",
   "metadata": {},
   "outputs": [
    {
     "data": {
      "text/plain": [
       "array([[48010226.  ,         nan,    35000.  , ...,         nan,         nan,     9452.96],\n",
       "       [57693261.  ,         nan,    30000.  , ...,         nan,         nan,     4679.7 ],\n",
       "       [59432726.  ,         nan,    15000.  , ...,         nan,         nan,     1969.83],\n",
       "       ...,\n",
       "       [50415990.  ,         nan,    10000.  , ...,         nan,         nan,     2185.64],\n",
       "       [46154151.  ,         nan,         nan, ...,         nan,         nan,     3199.4 ],\n",
       "       [66055249.  ,         nan,    10000.  , ...,         nan,         nan,      301.9 ]])"
      ]
     },
     "execution_count": 2,
     "metadata": {},
     "output_type": "execute_result"
    }
   ],
   "source": [
    "proj_data = np.genfromtxt(\"loan-data.csv\",\n",
    "                          delimiter = ';',\n",
    "                          skip_header = 1,\n",
    "                          autostrip = True)\n",
    "proj_data"
   ]
  },
  {
   "cell_type": "code",
   "execution_count": 3,
   "id": "b5db9a66-5871-4710-97e8-9a7e1160353e",
   "metadata": {},
   "outputs": [
    {
     "data": {
      "text/plain": [
       "88005"
      ]
     },
     "execution_count": 3,
     "metadata": {},
     "output_type": "execute_result"
    }
   ],
   "source": [
    "np.isnan(proj_data).sum()"
   ]
  },
  {
   "cell_type": "code",
   "execution_count": 4,
   "id": "28c89094-f453-43a5-927e-c3590ec86a8a",
   "metadata": {},
   "outputs": [
    {
     "name": "stderr",
     "output_type": "stream",
     "text": [
      "C:\\Users\\lenovo\\AppData\\Local\\Temp\\ipykernel_16296\\939815673.py:2: RuntimeWarning: Mean of empty slice\n",
      "  temp_mean=np.nanmean(proj_data,axis=0)\n"
     ]
    }
   ],
   "source": [
    "temp_fill=np.nanmax(proj_data)+1\n",
    "temp_mean=np.nanmean(proj_data,axis=0)"
   ]
  },
  {
   "cell_type": "code",
   "execution_count": 5,
   "id": "535c13c5-a32d-423e-9f13-b2730c57b3fb",
   "metadata": {},
   "outputs": [
    {
     "data": {
      "text/plain": [
       "array([54015809.19,         nan,    15273.46,         nan,    15311.04,         nan,       16.62,\n",
       "            440.92,         nan,         nan,         nan,         nan,         nan,     3143.85])"
      ]
     },
     "execution_count": 5,
     "metadata": {},
     "output_type": "execute_result"
    }
   ],
   "source": [
    "temp_mean"
   ]
  },
  {
   "cell_type": "code",
   "execution_count": 6,
   "id": "01510806-4a90-403f-a46d-163539ba5b1c",
   "metadata": {},
   "outputs": [
    {
     "name": "stderr",
     "output_type": "stream",
     "text": [
      "C:\\Users\\lenovo\\AppData\\Local\\Temp\\ipykernel_16296\\2152800652.py:1: RuntimeWarning: All-NaN slice encountered\n",
      "  temp_stats= np.array([np.nanmin(proj_data, axis= 0),\n",
      "C:\\Users\\lenovo\\AppData\\Local\\Temp\\ipykernel_16296\\2152800652.py:3: RuntimeWarning: All-NaN slice encountered\n",
      "  np.nanmax(proj_data, axis= 0)])\n"
     ]
    }
   ],
   "source": [
    "temp_stats= np.array([np.nanmin(proj_data, axis= 0),\n",
    "                    temp_mean,\n",
    "                    np.nanmax(proj_data, axis= 0)])"
   ]
  },
  {
   "cell_type": "code",
   "execution_count": 7,
   "id": "69eb2b1b-d60e-4274-bffb-100c53f324df",
   "metadata": {},
   "outputs": [
    {
     "data": {
      "text/plain": [
       "array([[  373332.  ,         nan,     1000.  ,         nan,     1000.  ,         nan,        6.  ,\n",
       "              31.42,         nan,         nan,         nan,         nan,         nan,        0.  ],\n",
       "       [54015809.19,         nan,    15273.46,         nan,    15311.04,         nan,       16.62,\n",
       "             440.92,         nan,         nan,         nan,         nan,         nan,     3143.85],\n",
       "       [68616519.  ,         nan,    35000.  ,         nan,    35000.  ,         nan,       28.99,\n",
       "            1372.97,         nan,         nan,         nan,         nan,         nan,    41913.62]])"
      ]
     },
     "execution_count": 7,
     "metadata": {},
     "output_type": "execute_result"
    }
   ],
   "source": [
    "temp_stats"
   ]
  },
  {
   "cell_type": "code",
   "execution_count": 8,
   "id": "b48aed6c-7b2d-4a4a-9e7d-0b711270aa89",
   "metadata": {},
   "outputs": [
    {
     "data": {
      "text/plain": [
       "array([ 1,  3,  5,  8,  9, 10, 11, 12], dtype=int64)"
      ]
     },
     "execution_count": 8,
     "metadata": {},
     "output_type": "execute_result"
    }
   ],
   "source": [
    "column_str= np.argwhere(np.isnan(temp_mean)).squeeze()\n",
    "column_str"
   ]
  },
  {
   "cell_type": "code",
   "execution_count": 9,
   "id": "199ee5c8-fa1f-454a-b667-712c07b0fe7a",
   "metadata": {},
   "outputs": [
    {
     "data": {
      "text/plain": [
       "array([ 0,  2,  4,  6,  7, 13], dtype=int64)"
      ]
     },
     "execution_count": 9,
     "metadata": {},
     "output_type": "execute_result"
    }
   ],
   "source": [
    "column_num= np.argwhere(np.isnan(temp_mean)== False).squeeze()\n",
    "column_num"
   ]
  },
  {
   "cell_type": "code",
   "execution_count": 10,
   "id": "6dd0967b-f8ee-4e19-baad-d56a58efc12d",
   "metadata": {},
   "outputs": [
    {
     "data": {
      "text/plain": [
       "array([['May-15', 'Current', '36 months', ..., 'Verified',\n",
       "        'https://www.lendingclub.com/browse/loanDetail.action?loan_id=48010226', 'CA'],\n",
       "       ['', 'Current', '36 months', ..., 'Source Verified',\n",
       "        'https://www.lendingclub.com/browse/loanDetail.action?loan_id=57693261', 'NY'],\n",
       "       ['Sep-15', 'Current', '36 months', ..., 'Verified',\n",
       "        'https://www.lendingclub.com/browse/loanDetail.action?loan_id=59432726', 'PA'],\n",
       "       ...,\n",
       "       ['Jun-15', 'Current', '36 months', ..., 'Source Verified',\n",
       "        'https://www.lendingclub.com/browse/loanDetail.action?loan_id=50415990', 'CA'],\n",
       "       ['Apr-15', 'Current', '36 months', ..., 'Source Verified',\n",
       "        'https://www.lendingclub.com/browse/loanDetail.action?loan_id=46154151', 'OH'],\n",
       "       ['Dec-15', 'Current', '36 months', ..., '',\n",
       "        'https://www.lendingclub.com/browse/loanDetail.action?loan_id=66055249', 'IL']],\n",
       "      dtype='<U69')"
      ]
     },
     "execution_count": 10,
     "metadata": {},
     "output_type": "execute_result"
    }
   ],
   "source": [
    "loan_data_str = np.genfromtxt(\"loan-data.csv\", delimiter = ';', \n",
    "                              skip_header = 1, \n",
    "                              autostrip = True, \n",
    "                              usecols =column_str,\n",
    "                              dtype = np.str_)\n",
    "loan_data_str"
   ]
  },
  {
   "cell_type": "code",
   "execution_count": 11,
   "id": "f16ab66e-843d-41cd-a56b-8b6d4c93b18c",
   "metadata": {},
   "outputs": [
    {
     "data": {
      "text/plain": [
       "array([[48010226.  ,    35000.  ,    35000.  ,       13.33,     1184.86,     9452.96],\n",
       "       [57693261.  ,    30000.  ,    30000.  , 68616520.  ,      938.57,     4679.7 ],\n",
       "       [59432726.  ,    15000.  ,    15000.  , 68616520.  ,      494.86,     1969.83],\n",
       "       ...,\n",
       "       [50415990.  ,    10000.  ,    10000.  , 68616520.  , 68616520.  ,     2185.64],\n",
       "       [46154151.  , 68616520.  ,    10000.  ,       16.55,      354.3 ,     3199.4 ],\n",
       "       [66055249.  ,    10000.  ,    10000.  , 68616520.  ,      309.97,      301.9 ]])"
      ]
     },
     "execution_count": 11,
     "metadata": {},
     "output_type": "execute_result"
    }
   ],
   "source": [
    "loan_data_num = np.genfromtxt(\"loan-data.csv\", delimiter = ';', \n",
    "                              skip_header = 1, \n",
    "                              autostrip = True, \n",
    "                              usecols =column_num,\n",
    "                              filling_values= temp_fill)\n",
    "loan_data_num                        "
   ]
  },
  {
   "cell_type": "code",
   "execution_count": 12,
   "id": "db249c8f-fa0e-4d04-af19-5654f04a65f0",
   "metadata": {},
   "outputs": [
    {
     "data": {
      "text/plain": [
       "array(['id', 'issue_d', 'loan_amnt', 'loan_status', 'funded_amnt', 'term', 'int_rate',\n",
       "       'installment', 'grade', 'sub_grade', 'verification_status', 'url', 'addr_state',\n",
       "       'total_pymnt'], dtype='<U19')"
      ]
     },
     "execution_count": 12,
     "metadata": {},
     "output_type": "execute_result"
    }
   ],
   "source": [
    "header_full = np.genfromtxt(\"loan-data.csv\",\n",
    "                          delimiter = ';',\n",
    "                          skip_footer = proj_data.shape[0],\n",
    "                          autostrip = True,\n",
    "                           dtype= np.str_)\n",
    "header_full"
   ]
  },
  {
   "cell_type": "code",
   "execution_count": 13,
   "id": "a725123b-9cba-484e-b206-ca0da7e6878f",
   "metadata": {},
   "outputs": [],
   "source": [
    "header_str, header_num = header_full[column_str], header_full[column_num]"
   ]
  },
  {
   "cell_type": "code",
   "execution_count": 14,
   "id": "67466cac-a899-4c87-afef-80f29d6c2cf8",
   "metadata": {},
   "outputs": [
    {
     "data": {
      "text/plain": [
       "array(['issue_d', 'loan_status', 'term', 'grade', 'sub_grade', 'verification_status', 'url',\n",
       "       'addr_state'], dtype='<U19')"
      ]
     },
     "execution_count": 14,
     "metadata": {},
     "output_type": "execute_result"
    }
   ],
   "source": [
    "header_str"
   ]
  },
  {
   "cell_type": "code",
   "execution_count": 15,
   "id": "9a810e94-5804-4fda-bf13-7e22bc2b7ec6",
   "metadata": {},
   "outputs": [
    {
     "data": {
      "text/plain": [
       "array(['id', 'loan_amnt', 'funded_amnt', 'int_rate', 'installment', 'total_pymnt'], dtype='<U19')"
      ]
     },
     "execution_count": 15,
     "metadata": {},
     "output_type": "execute_result"
    }
   ],
   "source": [
    "header_num"
   ]
  },
  {
   "cell_type": "code",
   "execution_count": 16,
   "id": "ac63cd20-a91f-43e8-b537-ddd68206575f",
   "metadata": {},
   "outputs": [],
   "source": [
    "def checkpoint(file_name, checkpoint_header, checkpoint_data):\n",
    "    np.savez(file_name, header= checkpoint_header, data= checkpoint_data)\n",
    "    checkpoint_variable= np.load(file_name + \".npz\")\n",
    "    return(checkpoint_variable)"
   ]
  },
  {
   "cell_type": "code",
   "execution_count": 17,
   "id": "e5aed10e-594b-4de9-96ad-8ff091757fce",
   "metadata": {},
   "outputs": [],
   "source": [
    "checkpoint_test = checkpoint(\"checkpoint-test\", header_str, loan_data_str)"
   ]
  },
  {
   "cell_type": "code",
   "execution_count": 18,
   "id": "7e9d75a5-b1f9-4109-9de7-4fe8e7b26946",
   "metadata": {},
   "outputs": [
    {
     "data": {
      "text/plain": [
       "array([['May-15', 'Current', '36 months', ..., 'Verified',\n",
       "        'https://www.lendingclub.com/browse/loanDetail.action?loan_id=48010226', 'CA'],\n",
       "       ['', 'Current', '36 months', ..., 'Source Verified',\n",
       "        'https://www.lendingclub.com/browse/loanDetail.action?loan_id=57693261', 'NY'],\n",
       "       ['Sep-15', 'Current', '36 months', ..., 'Verified',\n",
       "        'https://www.lendingclub.com/browse/loanDetail.action?loan_id=59432726', 'PA'],\n",
       "       ...,\n",
       "       ['Jun-15', 'Current', '36 months', ..., 'Source Verified',\n",
       "        'https://www.lendingclub.com/browse/loanDetail.action?loan_id=50415990', 'CA'],\n",
       "       ['Apr-15', 'Current', '36 months', ..., 'Source Verified',\n",
       "        'https://www.lendingclub.com/browse/loanDetail.action?loan_id=46154151', 'OH'],\n",
       "       ['Dec-15', 'Current', '36 months', ..., '',\n",
       "        'https://www.lendingclub.com/browse/loanDetail.action?loan_id=66055249', 'IL']],\n",
       "      dtype='<U69')"
      ]
     },
     "execution_count": 18,
     "metadata": {},
     "output_type": "execute_result"
    }
   ],
   "source": [
    "checkpoint_test[\"data\"]"
   ]
  },
  {
   "cell_type": "code",
   "execution_count": 19,
   "id": "6cf62fbf-9569-4d90-853e-cbf9f6e2a9cf",
   "metadata": {},
   "outputs": [
    {
     "data": {
      "text/plain": [
       "True"
      ]
     },
     "execution_count": 19,
     "metadata": {},
     "output_type": "execute_result"
    }
   ],
   "source": [
    "np.array_equal(checkpoint_test[\"data\"],loan_data_str)"
   ]
  },
  {
   "cell_type": "code",
   "execution_count": 20,
   "id": "bb76df73-bd5e-459c-aaca-063c0d2a24e9",
   "metadata": {},
   "outputs": [
    {
     "data": {
      "text/plain": [
       "array(['issue_d', 'loan_status', 'term', 'grade', 'sub_grade', 'verification_status', 'url',\n",
       "       'addr_state'], dtype='<U19')"
      ]
     },
     "execution_count": 20,
     "metadata": {},
     "output_type": "execute_result"
    }
   ],
   "source": [
    "header_str"
   ]
  },
  {
   "cell_type": "code",
   "execution_count": 21,
   "id": "b8d940ad-15d1-409f-93cb-5a5ca3d4018e",
   "metadata": {},
   "outputs": [],
   "source": [
    "header_str[0]= \"issue_id\""
   ]
  },
  {
   "cell_type": "code",
   "execution_count": 22,
   "id": "d54eeb43-8c63-485e-a6d8-a553fa182678",
   "metadata": {},
   "outputs": [
    {
     "data": {
      "text/plain": [
       "array([['May-15', 'Current', '36 months', ..., 'Verified',\n",
       "        'https://www.lendingclub.com/browse/loanDetail.action?loan_id=48010226', 'CA'],\n",
       "       ['', 'Current', '36 months', ..., 'Source Verified',\n",
       "        'https://www.lendingclub.com/browse/loanDetail.action?loan_id=57693261', 'NY'],\n",
       "       ['Sep-15', 'Current', '36 months', ..., 'Verified',\n",
       "        'https://www.lendingclub.com/browse/loanDetail.action?loan_id=59432726', 'PA'],\n",
       "       ...,\n",
       "       ['Jun-15', 'Current', '36 months', ..., 'Source Verified',\n",
       "        'https://www.lendingclub.com/browse/loanDetail.action?loan_id=50415990', 'CA'],\n",
       "       ['Apr-15', 'Current', '36 months', ..., 'Source Verified',\n",
       "        'https://www.lendingclub.com/browse/loanDetail.action?loan_id=46154151', 'OH'],\n",
       "       ['Dec-15', 'Current', '36 months', ..., '',\n",
       "        'https://www.lendingclub.com/browse/loanDetail.action?loan_id=66055249', 'IL']],\n",
       "      dtype='<U69')"
      ]
     },
     "execution_count": 22,
     "metadata": {},
     "output_type": "execute_result"
    }
   ],
   "source": [
    "loan_data_str"
   ]
  },
  {
   "cell_type": "code",
   "execution_count": 23,
   "id": "7d4e102a-c80a-4b44-8126-086b6a805d1f",
   "metadata": {},
   "outputs": [
    {
     "data": {
      "text/plain": [
       "array(['May-15', '', 'Sep-15', ..., 'Jun-15', 'Apr-15', 'Dec-15'], dtype='<U69')"
      ]
     },
     "execution_count": 23,
     "metadata": {},
     "output_type": "execute_result"
    }
   ],
   "source": [
    "loan_data_str[:,0]"
   ]
  },
  {
   "cell_type": "code",
   "execution_count": 24,
   "id": "49706fd4-6324-4009-9322-9aa182159cf4",
   "metadata": {},
   "outputs": [
    {
     "data": {
      "text/plain": [
       "array(['', 'Apr-15', 'Aug-15', 'Dec-15', 'Feb-15', 'Jan-15', 'Jul-15', 'Jun-15', 'Mar-15',\n",
       "       'May-15', 'Nov-15', 'Oct-15', 'Sep-15'], dtype='<U69')"
      ]
     },
     "execution_count": 24,
     "metadata": {},
     "output_type": "execute_result"
    }
   ],
   "source": [
    "np.unique(loan_data_str[:,0])"
   ]
  },
  {
   "cell_type": "code",
   "execution_count": 25,
   "id": "2d650959-b1e9-484d-8122-0704d68b5bdb",
   "metadata": {},
   "outputs": [
    {
     "data": {
      "text/plain": [
       "chararray(['May', '', 'Sep', ..., 'Jun', 'Apr', 'Dec'], dtype='<U69')"
      ]
     },
     "execution_count": 25,
     "metadata": {},
     "output_type": "execute_result"
    }
   ],
   "source": [
    "np.chararray.strip(loan_data_str[:,0], \"-15\")"
   ]
  },
  {
   "cell_type": "code",
   "execution_count": 26,
   "id": "98e3685f-43de-49f7-bd14-e9c688a9244f",
   "metadata": {},
   "outputs": [
    {
     "data": {
      "text/plain": [
       "chararray(['', 'Apr', 'Aug', 'Dec', 'Feb', 'Jan', 'Jul', 'Jun', 'Mar', 'May', 'Nov', 'Oct', 'Sep'],\n",
       "          dtype='<U69')"
      ]
     },
     "execution_count": 26,
     "metadata": {},
     "output_type": "execute_result"
    }
   ],
   "source": [
    "np.unique(np.chararray.strip(loan_data_str[:,0], \"-15\"))"
   ]
  },
  {
   "cell_type": "code",
   "execution_count": 27,
   "id": "98b1ae6a-75b6-490a-b677-d459fe0e16b8",
   "metadata": {},
   "outputs": [],
   "source": [
    "loan_data_str[:,0]= np.chararray.strip(loan_data_str[:,0], \"-15\")"
   ]
  },
  {
   "cell_type": "code",
   "execution_count": 28,
   "id": "090bfe83-f106-455f-8a82-5f53f69509ad",
   "metadata": {},
   "outputs": [
    {
     "data": {
      "text/plain": [
       "array(['', 'Jan', 'Feb', 'Mar', 'Apr', 'May', 'Jun', 'Jul', 'Aug', 'Sep', 'Oct', 'Nov', 'Dec'],\n",
       "      dtype='<U3')"
      ]
     },
     "execution_count": 28,
     "metadata": {},
     "output_type": "execute_result"
    }
   ],
   "source": [
    "months = np.array(['', 'Jan', 'Feb', 'Mar', 'Apr', 'May', 'Jun', 'Jul', 'Aug', 'Sep', 'Oct', 'Nov', 'Dec'])\n",
    "months"
   ]
  },
  {
   "cell_type": "code",
   "execution_count": 29,
   "id": "4829cae4-e5e7-464b-a233-67ea6522943a",
   "metadata": {},
   "outputs": [
    {
     "data": {
      "text/plain": [
       "13"
      ]
     },
     "execution_count": 29,
     "metadata": {},
     "output_type": "execute_result"
    }
   ],
   "source": [
    "months.size"
   ]
  },
  {
   "cell_type": "code",
   "execution_count": 30,
   "id": "fb9b49b6-2ea9-4bcb-8359-331f48e89e3a",
   "metadata": {},
   "outputs": [],
   "source": [
    "for i in range(13):\n",
    "    loan_data_str[:,0]= np.where(loan_data_str[:,0] == months[i],\n",
    "                                i,\n",
    "                                loan_data_str[:,0])"
   ]
  },
  {
   "cell_type": "code",
   "execution_count": 31,
   "id": "ecffc3fd-793a-4f23-b985-e92b7e3ca37b",
   "metadata": {},
   "outputs": [
    {
     "data": {
      "text/plain": [
       "array(['0', '1', '10', '11', '12', '2', '3', '4', '5', '6', '7', '8', '9'], dtype='<U69')"
      ]
     },
     "execution_count": 31,
     "metadata": {},
     "output_type": "execute_result"
    }
   ],
   "source": [
    "np.unique(loan_data_str[:,0])"
   ]
  },
  {
   "cell_type": "code",
   "execution_count": 32,
   "id": "916990c0-5b4d-465c-9e92-614da8b680da",
   "metadata": {},
   "outputs": [
    {
     "data": {
      "text/plain": [
       "array(['issue_id', 'loan_status', 'term', 'grade', 'sub_grade', 'verification_status', 'url',\n",
       "       'addr_state'], dtype='<U19')"
      ]
     },
     "execution_count": 32,
     "metadata": {},
     "output_type": "execute_result"
    }
   ],
   "source": [
    "header_str"
   ]
  },
  {
   "cell_type": "code",
   "execution_count": 33,
   "id": "5369f0a9-1f68-454e-a785-22f3f5edd4a1",
   "metadata": {},
   "outputs": [
    {
     "data": {
      "text/plain": [
       "array(['', 'Charged Off', 'Current', 'Default', 'Fully Paid', 'In Grace Period', 'Issued',\n",
       "       'Late (16-30 days)', 'Late (31-120 days)'], dtype='<U69')"
      ]
     },
     "execution_count": 33,
     "metadata": {},
     "output_type": "execute_result"
    }
   ],
   "source": [
    "np.unique(loan_data_str[:,1])"
   ]
  },
  {
   "cell_type": "code",
   "execution_count": 34,
   "id": "0055df6d-2acf-4d39-8159-a7c393b0424d",
   "metadata": {},
   "outputs": [
    {
     "data": {
      "text/plain": [
       "9"
      ]
     },
     "execution_count": 34,
     "metadata": {},
     "output_type": "execute_result"
    }
   ],
   "source": [
    "np.unique(loan_data_str[:,1]).size"
   ]
  },
  {
   "cell_type": "code",
   "execution_count": 35,
   "id": "4b83d025-c99c-4f3c-bd15-4751b9cc3217",
   "metadata": {},
   "outputs": [],
   "source": [
    "bad_status= np.array(['','Charged Off','Default','Late (31-120 days)'])"
   ]
  },
  {
   "cell_type": "code",
   "execution_count": 36,
   "id": "1feca211-97ff-4dde-a444-86425092f83b",
   "metadata": {},
   "outputs": [],
   "source": [
    "loan_data_str[:,1] = np.where(np.isin(loan_data_str[:,1],bad_status),0,1)"
   ]
  },
  {
   "cell_type": "code",
   "execution_count": 37,
   "id": "915ad48a-c4ed-4399-bbc6-a3ab2eb2730a",
   "metadata": {},
   "outputs": [
    {
     "data": {
      "text/plain": [
       "array(['0', '1'], dtype='<U69')"
      ]
     },
     "execution_count": 37,
     "metadata": {},
     "output_type": "execute_result"
    }
   ],
   "source": [
    "np.unique(loan_data_str[:,1])"
   ]
  },
  {
   "cell_type": "code",
   "execution_count": 38,
   "id": "05935a99-3dc9-4707-9fde-8ddce94da8e6",
   "metadata": {},
   "outputs": [
    {
     "data": {
      "text/plain": [
       "array(['36 months', '36 months', '36 months', ..., '36 months', '36 months', '36 months'],\n",
       "      dtype='<U69')"
      ]
     },
     "execution_count": 38,
     "metadata": {},
     "output_type": "execute_result"
    }
   ],
   "source": [
    "loan_data_str[:,2]"
   ]
  },
  {
   "cell_type": "code",
   "execution_count": 39,
   "id": "b1bf4fba-450c-4843-bf2d-0f6a42d11ffc",
   "metadata": {},
   "outputs": [
    {
     "data": {
      "text/plain": [
       "array(['', '36 months', '60 months'], dtype='<U69')"
      ]
     },
     "execution_count": 39,
     "metadata": {},
     "output_type": "execute_result"
    }
   ],
   "source": [
    "np.unique(loan_data_str[:,2])"
   ]
  },
  {
   "cell_type": "code",
   "execution_count": 40,
   "id": "673587c3-ee5d-4ab1-97d2-811c726325ae",
   "metadata": {},
   "outputs": [
    {
     "data": {
      "text/plain": [
       "array(['36 ', '36 ', '36 ', ..., '36 ', '36 ', '36 '], dtype='<U69')"
      ]
     },
     "execution_count": 40,
     "metadata": {},
     "output_type": "execute_result"
    }
   ],
   "source": [
    "loan_data_str[:,2]= np.chararray.strip(loan_data_str[:,2], \"months\")\n",
    "loan_data_str[:,2]"
   ]
  },
  {
   "cell_type": "code",
   "execution_count": 41,
   "id": "4d1a2e30-45ba-4f3a-b8bb-7543b7638057",
   "metadata": {},
   "outputs": [
    {
     "data": {
      "text/plain": [
       "array(['', '36 ', '60 '], dtype='<U69')"
      ]
     },
     "execution_count": 41,
     "metadata": {},
     "output_type": "execute_result"
    }
   ],
   "source": [
    "np.unique(loan_data_str[:,2])"
   ]
  },
  {
   "cell_type": "code",
   "execution_count": 42,
   "id": "1eabe218-ee7e-432d-a8c2-bd8da8407b9f",
   "metadata": {},
   "outputs": [],
   "source": [
    "header_str[2]= 'term_months'"
   ]
  },
  {
   "cell_type": "code",
   "execution_count": 43,
   "id": "2aef08e3-f40a-4491-8a40-27530611abcb",
   "metadata": {},
   "outputs": [
    {
     "data": {
      "text/plain": [
       "array(['issue_id', 'loan_status', 'term_months', 'grade', 'sub_grade', 'verification_status',\n",
       "       'url', 'addr_state'], dtype='<U19')"
      ]
     },
     "execution_count": 43,
     "metadata": {},
     "output_type": "execute_result"
    }
   ],
   "source": [
    "header_str"
   ]
  },
  {
   "cell_type": "code",
   "execution_count": 44,
   "id": "f95e7626-5a0d-4e68-9f79-d751c2a1a7d0",
   "metadata": {},
   "outputs": [
    {
     "data": {
      "text/plain": [
       "array(['36 ', '36 ', '36 ', ..., '36 ', '36 ', '36 '], dtype='<U69')"
      ]
     },
     "execution_count": 44,
     "metadata": {},
     "output_type": "execute_result"
    }
   ],
   "source": [
    "loan_data_str[:,2] = np.where(loan_data_str[:,2]== '',\n",
    "                             '60',\n",
    "                             loan_data_str[:,2])\n",
    "loan_data_str[:,2]"
   ]
  },
  {
   "cell_type": "code",
   "execution_count": 45,
   "id": "d10cbe36-b072-4a96-a18c-0348217e3ce3",
   "metadata": {},
   "outputs": [
    {
     "data": {
      "text/plain": [
       "array(['36 ', '60', '60 '], dtype='<U69')"
      ]
     },
     "execution_count": 45,
     "metadata": {},
     "output_type": "execute_result"
    }
   ],
   "source": [
    "np.unique(loan_data_str[:,2])"
   ]
  },
  {
   "cell_type": "code",
   "execution_count": 46,
   "id": "f075bf57-d67a-4a1b-98d5-c17e8beca952",
   "metadata": {},
   "outputs": [
    {
     "data": {
      "text/plain": [
       "array(['', 'A', 'B', 'C', 'D', 'E', 'F', 'G'], dtype='<U69')"
      ]
     },
     "execution_count": 46,
     "metadata": {},
     "output_type": "execute_result"
    }
   ],
   "source": [
    "np.unique(loan_data_str[:,3])"
   ]
  },
  {
   "cell_type": "code",
   "execution_count": 47,
   "id": "9711452e-e999-4194-8ba6-3b045a0ab105",
   "metadata": {},
   "outputs": [
    {
     "data": {
      "text/plain": [
       "array(['', 'A1', 'A2', 'A3', 'A4', 'A5', 'B1', 'B2', 'B3', 'B4', 'B5', 'C1', 'C2', 'C3', 'C4',\n",
       "       'C5', 'D1', 'D2', 'D3', 'D4', 'D5', 'E1', 'E2', 'E3', 'E4', 'E5', 'F1', 'F2', 'F3', 'F4',\n",
       "       'F5', 'G1', 'G2', 'G3', 'G4', 'G5'], dtype='<U69')"
      ]
     },
     "execution_count": 47,
     "metadata": {},
     "output_type": "execute_result"
    }
   ],
   "source": [
    "np.unique(loan_data_str[:,4])"
   ]
  },
  {
   "cell_type": "code",
   "execution_count": 48,
   "id": "92b6675f-d8a0-451c-9596-20dfb33e0050",
   "metadata": {},
   "outputs": [],
   "source": [
    "for i in np.unique(loan_data_str[:,3])[1:]:\n",
    "    loan_data_str[:,4] = np.where((loan_data_str[:,4]== '')& (loan_data_str[:,3]== i),\n",
    "                                 i + '5',\n",
    "                                 loan_data_str[:,4])"
   ]
  },
  {
   "cell_type": "code",
   "execution_count": 49,
   "id": "766a4244-dc5c-4618-9498-c438d25ea0f7",
   "metadata": {},
   "outputs": [
    {
     "data": {
      "text/plain": [
       "(array(['', 'A1', 'A2', 'A3', 'A4', 'A5', 'B1', 'B2', 'B3', 'B4', 'B5', 'C1', 'C2', 'C3', 'C4',\n",
       "        'C5', 'D1', 'D2', 'D3', 'D4', 'D5', 'E1', 'E2', 'E3', 'E4', 'E5', 'F1', 'F2', 'F3', 'F4',\n",
       "        'F5', 'G1', 'G2', 'G3', 'G4', 'G5'], dtype='<U69'),\n",
       " array([  9, 285, 278, 239, 323, 592, 509, 517, 530, 553, 633, 629, 567, 586, 564, 577, 391, 267,\n",
       "        250, 255, 288, 235, 162, 171, 139, 160,  94,  52,  34,  43,  24,  19,  10,   3,   7,   5],\n",
       "       dtype=int64))"
      ]
     },
     "execution_count": 49,
     "metadata": {},
     "output_type": "execute_result"
    }
   ],
   "source": [
    "np.unique(loan_data_str[:,4],return_counts = True)"
   ]
  },
  {
   "cell_type": "code",
   "execution_count": 50,
   "id": "5dd6117b-a8fb-4c59-a380-c927bf18a0c4",
   "metadata": {},
   "outputs": [],
   "source": [
    "loan_data_str[:,4] = np.where(loan_data_str[:,4] == '',\n",
    "                             'H1',\n",
    "                              loan_data_str[:,4]) "
   ]
  },
  {
   "cell_type": "code",
   "execution_count": 51,
   "id": "4003e1bb-2d2c-4ab3-aa9b-f98d4a0bd28c",
   "metadata": {},
   "outputs": [
    {
     "data": {
      "text/plain": [
       "array(['A1', 'A2', 'A3', 'A4', 'A5', 'B1', 'B2', 'B3', 'B4', 'B5', 'C1', 'C2', 'C3', 'C4', 'C5',\n",
       "       'D1', 'D2', 'D3', 'D4', 'D5', 'E1', 'E2', 'E3', 'E4', 'E5', 'F1', 'F2', 'F3', 'F4', 'F5',\n",
       "       'G1', 'G2', 'G3', 'G4', 'G5', 'H1'], dtype='<U69')"
      ]
     },
     "execution_count": 51,
     "metadata": {},
     "output_type": "execute_result"
    }
   ],
   "source": [
    "np.unique(loan_data_str[:,4])"
   ]
  },
  {
   "cell_type": "code",
   "execution_count": 52,
   "id": "8a1d97e2-ec7f-46d3-be7a-f8f6116b75c1",
   "metadata": {},
   "outputs": [
    {
     "data": {
      "text/plain": [
       "array(['C', 'A', 'B', ..., 'A', 'D', 'A'], dtype='<U69')"
      ]
     },
     "execution_count": 52,
     "metadata": {},
     "output_type": "execute_result"
    }
   ],
   "source": [
    "loan_data_str[:,3]"
   ]
  },
  {
   "cell_type": "code",
   "execution_count": 53,
   "id": "f7458ec8-35db-4a93-855f-5f201b86b1f4",
   "metadata": {},
   "outputs": [],
   "source": [
    "loan_data_str = np.delete(loan_data_str, 3, axis =1 )"
   ]
  },
  {
   "cell_type": "code",
   "execution_count": 54,
   "id": "6f8ac9e0-f54d-4472-b1d6-a3e816a789ce",
   "metadata": {},
   "outputs": [
    {
     "data": {
      "text/plain": [
       "array(['issue_id', 'loan_status', 'term_months', 'grade', 'sub_grade', 'verification_status',\n",
       "       'url', 'addr_state'], dtype='<U19')"
      ]
     },
     "execution_count": 54,
     "metadata": {},
     "output_type": "execute_result"
    }
   ],
   "source": [
    "header_str"
   ]
  },
  {
   "cell_type": "code",
   "execution_count": 55,
   "id": "6836d6c0-3486-4fca-8e71-4cc867bbf527",
   "metadata": {},
   "outputs": [],
   "source": [
    "header_str = np.delete(header_str, 3)"
   ]
  },
  {
   "cell_type": "code",
   "execution_count": 56,
   "id": "005618df-c430-431b-b23b-c5ebb5d60294",
   "metadata": {},
   "outputs": [
    {
     "data": {
      "text/plain": [
       "array(['issue_id', 'loan_status', 'term_months', 'sub_grade', 'verification_status', 'url',\n",
       "       'addr_state'], dtype='<U19')"
      ]
     },
     "execution_count": 56,
     "metadata": {},
     "output_type": "execute_result"
    }
   ],
   "source": [
    "header_str"
   ]
  },
  {
   "cell_type": "code",
   "execution_count": 57,
   "id": "da30e064-3085-4394-bee7-d1380803dd39",
   "metadata": {},
   "outputs": [
    {
     "data": {
      "text/plain": [
       "array(['A1', 'A2', 'A3', 'A4', 'A5', 'B1', 'B2', 'B3', 'B4', 'B5', 'C1', 'C2', 'C3', 'C4', 'C5',\n",
       "       'D1', 'D2', 'D3', 'D4', 'D5', 'E1', 'E2', 'E3', 'E4', 'E5', 'F1', 'F2', 'F3', 'F4', 'F5',\n",
       "       'G1', 'G2', 'G3', 'G4', 'G5', 'H1'], dtype='<U69')"
      ]
     },
     "execution_count": 57,
     "metadata": {},
     "output_type": "execute_result"
    }
   ],
   "source": [
    "np.unique(loan_data_str[:,3])"
   ]
  },
  {
   "cell_type": "code",
   "execution_count": 58,
   "id": "d65a37e1-305e-4f47-ac33-92352a7ef916",
   "metadata": {},
   "outputs": [],
   "source": [
    "keys = list(np.unique(loan_data_str[:,3]))\n",
    "values = list(range(1, np.unique(loan_data_str[:,3]).shape[0] +1))\n",
    "dict_sub_grade = dict(zip(keys, values))"
   ]
  },
  {
   "cell_type": "code",
   "execution_count": 59,
   "id": "7c2bcb58-a9a4-44f8-8235-f229acb1f271",
   "metadata": {},
   "outputs": [
    {
     "data": {
      "text/plain": [
       "{'A1': 1,\n",
       " 'A2': 2,\n",
       " 'A3': 3,\n",
       " 'A4': 4,\n",
       " 'A5': 5,\n",
       " 'B1': 6,\n",
       " 'B2': 7,\n",
       " 'B3': 8,\n",
       " 'B4': 9,\n",
       " 'B5': 10,\n",
       " 'C1': 11,\n",
       " 'C2': 12,\n",
       " 'C3': 13,\n",
       " 'C4': 14,\n",
       " 'C5': 15,\n",
       " 'D1': 16,\n",
       " 'D2': 17,\n",
       " 'D3': 18,\n",
       " 'D4': 19,\n",
       " 'D5': 20,\n",
       " 'E1': 21,\n",
       " 'E2': 22,\n",
       " 'E3': 23,\n",
       " 'E4': 24,\n",
       " 'E5': 25,\n",
       " 'F1': 26,\n",
       " 'F2': 27,\n",
       " 'F3': 28,\n",
       " 'F4': 29,\n",
       " 'F5': 30,\n",
       " 'G1': 31,\n",
       " 'G2': 32,\n",
       " 'G3': 33,\n",
       " 'G4': 34,\n",
       " 'G5': 35,\n",
       " 'H1': 36}"
      ]
     },
     "execution_count": 59,
     "metadata": {},
     "output_type": "execute_result"
    }
   ],
   "source": [
    "dict_sub_grade"
   ]
  },
  {
   "cell_type": "code",
   "execution_count": 60,
   "id": "037e492a-0cd2-47e5-93da-151dabeaf4ce",
   "metadata": {},
   "outputs": [],
   "source": [
    "for i in np.unique(loan_data_str[:,3]):\n",
    "    loan_data_str[:,3] = np.where(loan_data_str[:,3] == i,\n",
    "                                  dict_sub_grade[i],\n",
    "                                  loan_data_str[:,3])"
   ]
  },
  {
   "cell_type": "code",
   "execution_count": 61,
   "id": "e995124b-1992-481c-bd7e-d21fefefc1d5",
   "metadata": {},
   "outputs": [
    {
     "data": {
      "text/plain": [
       "array(['1', '10', '11', '12', '13', '14', '15', '16', '17', '18', '19', '2', '20', '21', '22',\n",
       "       '23', '24', '25', '26', '27', '28', '29', '3', '30', '31', '32', '33', '34', '35', '36',\n",
       "       '4', '5', '6', '7', '8', '9'], dtype='<U69')"
      ]
     },
     "execution_count": 61,
     "metadata": {},
     "output_type": "execute_result"
    }
   ],
   "source": [
    "np.unique(loan_data_str[:,3])"
   ]
  },
  {
   "cell_type": "code",
   "execution_count": 62,
   "id": "8b3183bd-2075-4fef-9ba1-92b3d9d55dd2",
   "metadata": {},
   "outputs": [
    {
     "data": {
      "text/plain": [
       "array(['issue_id', 'loan_status', 'term_months', 'sub_grade', 'verification_status', 'url',\n",
       "       'addr_state'], dtype='<U19')"
      ]
     },
     "execution_count": 62,
     "metadata": {},
     "output_type": "execute_result"
    }
   ],
   "source": [
    "header_str"
   ]
  },
  {
   "cell_type": "code",
   "execution_count": 63,
   "id": "f944070e-f478-4cbb-bf30-55d06c2ce217",
   "metadata": {},
   "outputs": [
    {
     "data": {
      "text/plain": [
       "array(['Verified', 'Source Verified', 'Verified', ..., 'Source Verified', 'Source Verified', ''],\n",
       "      dtype='<U69')"
      ]
     },
     "execution_count": 63,
     "metadata": {},
     "output_type": "execute_result"
    }
   ],
   "source": [
    "loan_data_str[:,4]"
   ]
  },
  {
   "cell_type": "code",
   "execution_count": 64,
   "id": "33dd7bfd-7899-4019-92ae-cbb8d7c8b4d1",
   "metadata": {},
   "outputs": [
    {
     "data": {
      "text/plain": [
       "array(['', 'Not Verified', 'Source Verified', 'Verified'], dtype='<U69')"
      ]
     },
     "execution_count": 64,
     "metadata": {},
     "output_type": "execute_result"
    }
   ],
   "source": [
    "np.unique(loan_data_str[:,4])"
   ]
  },
  {
   "cell_type": "code",
   "execution_count": 65,
   "id": "23cd034c-9acc-44d6-a120-084434b3b485",
   "metadata": {},
   "outputs": [],
   "source": [
    "loan_data_str[:,4] = np.where((loan_data_str[:,4] == '') | (loan_data_str[:,4] == 'Not Verified'),0,1)"
   ]
  },
  {
   "cell_type": "code",
   "execution_count": 66,
   "id": "379b626d-26dc-4a9c-83dc-4d39f19c8f63",
   "metadata": {},
   "outputs": [
    {
     "data": {
      "text/plain": [
       "array(['0', '1'], dtype='<U69')"
      ]
     },
     "execution_count": 66,
     "metadata": {},
     "output_type": "execute_result"
    }
   ],
   "source": [
    "np.unique(loan_data_str[:,4])"
   ]
  },
  {
   "cell_type": "code",
   "execution_count": 67,
   "id": "a0cb1526-cec6-4b23-a322-290804f7fed4",
   "metadata": {},
   "outputs": [
    {
     "data": {
      "text/plain": [
       "array(['https://www.lendingclub.com/browse/loanDetail.action?loan_id=48010226',\n",
       "       'https://www.lendingclub.com/browse/loanDetail.action?loan_id=57693261',\n",
       "       'https://www.lendingclub.com/browse/loanDetail.action?loan_id=59432726', ...,\n",
       "       'https://www.lendingclub.com/browse/loanDetail.action?loan_id=50415990',\n",
       "       'https://www.lendingclub.com/browse/loanDetail.action?loan_id=46154151',\n",
       "       'https://www.lendingclub.com/browse/loanDetail.action?loan_id=66055249'], dtype='<U69')"
      ]
     },
     "execution_count": 67,
     "metadata": {},
     "output_type": "execute_result"
    }
   ],
   "source": [
    "loan_data_str[:,5]"
   ]
  },
  {
   "cell_type": "code",
   "execution_count": 68,
   "id": "9e15d94e-356d-47fa-ad99-306647e81602",
   "metadata": {},
   "outputs": [
    {
     "data": {
      "text/plain": [
       "chararray(['48010226', '57693261', '59432726', ..., '50415990', '46154151', '66055249'],\n",
       "          dtype='<U69')"
      ]
     },
     "execution_count": 68,
     "metadata": {},
     "output_type": "execute_result"
    }
   ],
   "source": [
    "np.chararray.strip(loan_data_str[:,5], \"https://www.lendingclub.com/browse/loanDetail.action?loan_id=\")"
   ]
  },
  {
   "cell_type": "code",
   "execution_count": 69,
   "id": "7b2824d7-de46-4282-8053-2e7b59b4e5f3",
   "metadata": {},
   "outputs": [],
   "source": [
    "loan_data_str[:,5] = np.chararray.strip(loan_data_str[:,5], \"https://www.lendingclub.com/browse/loanDetail.action?loan_id=\")"
   ]
  },
  {
   "cell_type": "code",
   "execution_count": 70,
   "id": "a34d1d6f-c7d3-428a-a6d5-fb7cfcc3a827",
   "metadata": {},
   "outputs": [
    {
     "data": {
      "text/plain": [
       "array(['48010226', '57693261', '59432726', ..., '50415990', '46154151', '66055249'], dtype='<U69')"
      ]
     },
     "execution_count": 70,
     "metadata": {},
     "output_type": "execute_result"
    }
   ],
   "source": [
    "loan_data_str[:,5]"
   ]
  },
  {
   "cell_type": "code",
   "execution_count": 71,
   "id": "5d028757-e864-44db-adeb-6248c1ef83e6",
   "metadata": {},
   "outputs": [
    {
     "data": {
      "text/plain": [
       "array(['id', 'issue_d', 'loan_amnt', 'loan_status', 'funded_amnt', 'term', 'int_rate',\n",
       "       'installment', 'grade', 'sub_grade', 'verification_status', 'url', 'addr_state',\n",
       "       'total_pymnt'], dtype='<U19')"
      ]
     },
     "execution_count": 71,
     "metadata": {},
     "output_type": "execute_result"
    }
   ],
   "source": [
    "header_full"
   ]
  },
  {
   "cell_type": "code",
   "execution_count": 72,
   "id": "e1e9d43f-c6e5-43d5-b34d-e0372e646a81",
   "metadata": {},
   "outputs": [
    {
     "data": {
      "text/plain": [
       "array([48010226., 57693261., 59432726., ..., 50415990., 46154151., 66055249.])"
      ]
     },
     "execution_count": 72,
     "metadata": {},
     "output_type": "execute_result"
    }
   ],
   "source": [
    "loan_data_num[:,0]"
   ]
  },
  {
   "cell_type": "code",
   "execution_count": 73,
   "id": "108a43fb-a5c9-4396-b40c-abe91a26792f",
   "metadata": {},
   "outputs": [
    {
     "data": {
      "text/plain": [
       "array([48010226, 57693261, 59432726, ..., 50415990, 46154151, 66055249])"
      ]
     },
     "execution_count": 73,
     "metadata": {},
     "output_type": "execute_result"
    }
   ],
   "source": [
    "loan_data_str[:,5].astype(dtype= np.int32)"
   ]
  },
  {
   "cell_type": "code",
   "execution_count": 74,
   "id": "2aab36f4-c5ce-4c7f-8024-8424b4aade68",
   "metadata": {},
   "outputs": [
    {
     "data": {
      "text/plain": [
       "array([48010226, 57693261, 59432726, ..., 50415990, 46154151, 66055249])"
      ]
     },
     "execution_count": 74,
     "metadata": {},
     "output_type": "execute_result"
    }
   ],
   "source": [
    "loan_data_num[:,0].astype(dtype = np.int32)"
   ]
  },
  {
   "cell_type": "code",
   "execution_count": 75,
   "id": "02926c21-b4eb-40d7-9f59-eb541e41d3bd",
   "metadata": {},
   "outputs": [
    {
     "data": {
      "text/plain": [
       "True"
      ]
     },
     "execution_count": 75,
     "metadata": {},
     "output_type": "execute_result"
    }
   ],
   "source": [
    "np.array_equal(loan_data_str[:,5].astype(dtype= np.int32), loan_data_num[:,0].astype(dtype = np.int32))"
   ]
  },
  {
   "cell_type": "code",
   "execution_count": 76,
   "id": "bb61bf76-c6b8-4267-9267-17954a1c7ac9",
   "metadata": {},
   "outputs": [],
   "source": [
    "loan_data_str = np.delete(loan_data_str, 3, axis= 1 )\n",
    "header_str = np.delete(header_str, 5)"
   ]
  },
  {
   "cell_type": "code",
   "execution_count": 77,
   "id": "5ffd0bf0-ab2a-4c0d-a0a6-8fee5b1c2f40",
   "metadata": {},
   "outputs": [
    {
     "data": {
      "text/plain": [
       "array(['CA', 'NY', 'PA', ..., 'CA', 'OH', 'IL'], dtype='<U69')"
      ]
     },
     "execution_count": 77,
     "metadata": {},
     "output_type": "execute_result"
    }
   ],
   "source": [
    "loan_data_str[:,5]"
   ]
  },
  {
   "cell_type": "code",
   "execution_count": 78,
   "id": "2afff96a-06f3-4336-b35e-73cc9f86a569",
   "metadata": {},
   "outputs": [
    {
     "data": {
      "text/plain": [
       "array(['issue_id', 'loan_status', 'term_months', 'sub_grade', 'verification_status', 'addr_state'],\n",
       "      dtype='<U19')"
      ]
     },
     "execution_count": 78,
     "metadata": {},
     "output_type": "execute_result"
    }
   ],
   "source": [
    "header_str"
   ]
  },
  {
   "cell_type": "code",
   "execution_count": 79,
   "id": "0f377c5f-9d21-4b06-a7db-1285c942e84c",
   "metadata": {},
   "outputs": [
    {
     "data": {
      "text/plain": [
       "array([48010226., 57693261., 59432726., ..., 50415990., 46154151., 66055249.])"
      ]
     },
     "execution_count": 79,
     "metadata": {},
     "output_type": "execute_result"
    }
   ],
   "source": [
    "loan_data_num[:,0]"
   ]
  },
  {
   "cell_type": "code",
   "execution_count": 80,
   "id": "f337eddf-2800-4f91-9bdb-c36cb1de6722",
   "metadata": {},
   "outputs": [
    {
     "data": {
      "text/plain": [
       "array(['id', 'loan_amnt', 'funded_amnt', 'int_rate', 'installment', 'total_pymnt'], dtype='<U19')"
      ]
     },
     "execution_count": 80,
     "metadata": {},
     "output_type": "execute_result"
    }
   ],
   "source": [
    "header_num"
   ]
  },
  {
   "cell_type": "code",
   "execution_count": 81,
   "id": "8216218c-ee29-4102-abbb-fd860c286237",
   "metadata": {},
   "outputs": [],
   "source": [
    "header_str[5] = \"state_address\""
   ]
  },
  {
   "cell_type": "code",
   "execution_count": 82,
   "id": "dca17967-56c4-4980-81ee-9b291b5e239a",
   "metadata": {},
   "outputs": [
    {
     "data": {
      "text/plain": [
       "array(['issue_id', 'loan_status', 'term_months', 'sub_grade', 'verification_status',\n",
       "       'state_address'], dtype='<U19')"
      ]
     },
     "execution_count": 82,
     "metadata": {},
     "output_type": "execute_result"
    }
   ],
   "source": [
    "header_str"
   ]
  },
  {
   "cell_type": "code",
   "execution_count": 83,
   "id": "ebeb13ad-0d3c-45d0-9891-54f10c43bba4",
   "metadata": {},
   "outputs": [
    {
     "data": {
      "text/plain": [
       "array(['CA', 'NY', 'PA', ..., 'CA', 'OH', 'IL'], dtype='<U69')"
      ]
     },
     "execution_count": 83,
     "metadata": {},
     "output_type": "execute_result"
    }
   ],
   "source": [
    "loan_data_str[:,5]"
   ]
  },
  {
   "cell_type": "code",
   "execution_count": 84,
   "id": "02d801b4-19c7-4213-83fe-59a273ace77e",
   "metadata": {},
   "outputs": [
    {
     "data": {
      "text/plain": [
       "array(['', 'AK', 'AL', 'AR', 'AZ', 'CA', 'CO', 'CT', 'DC', 'DE', 'FL', 'GA', 'HI', 'IL', 'IN',\n",
       "       'KS', 'KY', 'LA', 'MA', 'MD', 'ME', 'MI', 'MN', 'MO', 'MS', 'MT', 'NC', 'ND', 'NE', 'NH',\n",
       "       'NJ', 'NM', 'NV', 'NY', 'OH', 'OK', 'OR', 'PA', 'RI', 'SC', 'SD', 'TN', 'TX', 'UT', 'VA',\n",
       "       'VT', 'WA', 'WI', 'WV', 'WY'], dtype='<U69')"
      ]
     },
     "execution_count": 84,
     "metadata": {},
     "output_type": "execute_result"
    }
   ],
   "source": [
    "np.unique(loan_data_str[:,5])"
   ]
  },
  {
   "cell_type": "code",
   "execution_count": 85,
   "id": "56a75613-f360-4ab8-ae4b-5e4b9a865706",
   "metadata": {},
   "outputs": [
    {
     "data": {
      "text/plain": [
       "(array(['', 'AK', 'AL', 'AR', 'AZ', 'CA', 'CO', 'CT', 'DC', 'DE', 'FL', 'GA', 'HI', 'IL', 'IN',\n",
       "        'KS', 'KY', 'LA', 'MA', 'MD', 'ME', 'MI', 'MN', 'MO', 'MS', 'MT', 'NC', 'ND', 'NE', 'NH',\n",
       "        'NJ', 'NM', 'NV', 'NY', 'OH', 'OK', 'OR', 'PA', 'RI', 'SC', 'SD', 'TN', 'TX', 'UT', 'VA',\n",
       "        'VT', 'WA', 'WI', 'WV', 'WY'], dtype='<U69'),\n",
       " array([ 500,   26,  119,   74,  220, 1336,  201,  143,   27,   27,  690,  321,   44,  389,  152,\n",
       "          84,   84,  116,  210,  222,   10,  267,  156,  160,   61,   28,  261,   16,   25,   58,\n",
       "         341,   57,  130,  777,  312,   83,  108,  320,   40,  107,   24,  143,  758,   74,  242,\n",
       "          17,  216,  148,   49,   27], dtype=int64))"
      ]
     },
     "execution_count": 85,
     "metadata": {},
     "output_type": "execute_result"
    }
   ],
   "source": [
    "np.unique(loan_data_str[:,5], return_counts = True)"
   ]
  },
  {
   "cell_type": "code",
   "execution_count": 86,
   "id": "8fd10e55-0568-4869-80b1-34ed539ec754",
   "metadata": {},
   "outputs": [
    {
     "data": {
      "text/plain": [
       "(array(['CA', 'NY', 'TX', 'FL', '', 'IL', 'NJ', 'GA', 'PA', 'OH', 'MI', 'NC', 'VA', 'MD', 'AZ',\n",
       "        'WA', 'MA', 'CO', 'MO', 'MN', 'IN', 'WI', 'CT', 'TN', 'NV', 'AL', 'LA', 'OR', 'SC', 'KY',\n",
       "        'KS', 'OK', 'UT', 'AR', 'MS', 'NH', 'NM', 'WV', 'HI', 'RI', 'MT', 'DE', 'DC', 'WY', 'AK',\n",
       "        'NE', 'SD', 'VT', 'ND', 'ME'], dtype='<U69'),\n",
       " array([1336,  777,  758,  690,  500,  389,  341,  321,  320,  312,  267,  261,  242,  222,  220,\n",
       "         216,  210,  201,  160,  156,  152,  148,  143,  143,  130,  119,  116,  108,  107,   84,\n",
       "          84,   83,   74,   74,   61,   58,   57,   49,   44,   40,   28,   27,   27,   27,   26,\n",
       "          25,   24,   17,   16,   10], dtype=int64))"
      ]
     },
     "execution_count": 86,
     "metadata": {},
     "output_type": "execute_result"
    }
   ],
   "source": [
    "state_names, state_counts = np.unique(loan_data_str[:,5], return_counts = True)\n",
    "state_sorted_counts = np.argsort(-state_counts)\n",
    "state_names[state_sorted_counts], state_counts[state_sorted_counts]"
   ]
  },
  {
   "cell_type": "code",
   "execution_count": 87,
   "id": "f1adb94f-472e-4b7c-9c70-aa93f7df298f",
   "metadata": {},
   "outputs": [],
   "source": [
    "loan_data_str[:,5] = np.where(loan_data_str[:,5] == '',\n",
    "                             0,\n",
    "                            loan_data_str[:,5])"
   ]
  },
  {
   "cell_type": "code",
   "execution_count": 88,
   "id": "8dbd5eef-a38e-4a65-9a37-390cc5a7174a",
   "metadata": {},
   "outputs": [],
   "source": [
    "state_west = np.array(['WA', 'OR', 'CA', 'NV', 'ID', 'MT', 'WY', 'UT', 'CO', 'AZ', 'NM', 'HI', 'AK'])\n",
    "state_south =np.array(['TX', 'OK', 'AR', 'LA', 'MS', 'AL', 'TN', 'KY', 'FL', 'GA', 'SC', 'NC', 'VA', 'WV', 'MD', 'DE', 'DC'])\n",
    "state_midwest =np.array(['ND', 'SD', 'NE', 'KS', 'MN', 'IA', 'MO', 'WI', 'IL', 'IN', 'MI', 'OH'])\n",
    "state_east =np.array(['PA', 'NY', 'NJ', 'CT', 'MA', 'VT', 'NH', 'ME', 'RI'])"
   ]
  },
  {
   "cell_type": "code",
   "execution_count": 89,
   "id": "98551495-b023-4c79-8402-74dbe97ea6b3",
   "metadata": {},
   "outputs": [],
   "source": [
    "loan_data_str[:,5] = np.where(np.isin(loan_data_str[:,5], state_west), 1, loan_data_str[:,5])\n",
    "loan_data_str[:,5] = np.where(np.isin(loan_data_str[:,5], state_south), 2, loan_data_str[:,5])\n",
    "loan_data_str[:,5] = np.where(np.isin(loan_data_str[:,5], state_midwest), 3, loan_data_str[:,5])\n",
    "loan_data_str[:,5] = np.where(np.isin(loan_data_str[:,5], state_east), 4, loan_data_str[:,5])"
   ]
  },
  {
   "cell_type": "code",
   "execution_count": 90,
   "id": "bf401d02-2b2a-4c3f-90e1-02501e5d3da8",
   "metadata": {},
   "outputs": [
    {
     "data": {
      "text/plain": [
       "array(['0', '1', '2', '3', '4'], dtype='<U69')"
      ]
     },
     "execution_count": 90,
     "metadata": {},
     "output_type": "execute_result"
    }
   ],
   "source": [
    "np.unique(loan_data_str[:,5])"
   ]
  },
  {
   "cell_type": "code",
   "execution_count": 91,
   "id": "897e2fad-34ed-4558-9b78-04e6df6e245d",
   "metadata": {},
   "outputs": [
    {
     "data": {
      "text/plain": [
       "array([['5', '1', '36 ', '1', '48010226', '1'],\n",
       "       ['0', '1', '36 ', '1', '57693261', '4'],\n",
       "       ['9', '1', '36 ', '1', '59432726', '4'],\n",
       "       ...,\n",
       "       ['6', '1', '36 ', '1', '50415990', '1'],\n",
       "       ['4', '1', '36 ', '1', '46154151', '3'],\n",
       "       ['12', '1', '36 ', '0', '66055249', '3']], dtype='<U69')"
      ]
     },
     "execution_count": 91,
     "metadata": {},
     "output_type": "execute_result"
    }
   ],
   "source": [
    "loan_data_str"
   ]
  },
  {
   "cell_type": "code",
   "execution_count": 92,
   "id": "427684a5-f827-4bb1-9bd2-50bc6fe5ac6d",
   "metadata": {},
   "outputs": [
    {
     "data": {
      "text/plain": [
       "array([[       5,        1,       36,        1, 48010226,        1],\n",
       "       [       0,        1,       36,        1, 57693261,        4],\n",
       "       [       9,        1,       36,        1, 59432726,        4],\n",
       "       ...,\n",
       "       [       6,        1,       36,        1, 50415990,        1],\n",
       "       [       4,        1,       36,        1, 46154151,        3],\n",
       "       [      12,        1,       36,        0, 66055249,        3]])"
      ]
     },
     "execution_count": 92,
     "metadata": {},
     "output_type": "execute_result"
    }
   ],
   "source": [
    "loan_data_str.astype(np.int32)"
   ]
  },
  {
   "cell_type": "code",
   "execution_count": 93,
   "id": "4db153ce-27a2-4573-99e5-0dbe07f5ff60",
   "metadata": {},
   "outputs": [],
   "source": [
    "loan_data_str = loan_data_str.astype(np.int32)"
   ]
  },
  {
   "cell_type": "code",
   "execution_count": 94,
   "id": "c422ab15-2573-4019-9b1d-219ea428aba3",
   "metadata": {},
   "outputs": [
    {
     "data": {
      "text/plain": [
       "array([[       5,        1,       36,        1, 48010226,        1],\n",
       "       [       0,        1,       36,        1, 57693261,        4],\n",
       "       [       9,        1,       36,        1, 59432726,        4],\n",
       "       ...,\n",
       "       [       6,        1,       36,        1, 50415990,        1],\n",
       "       [       4,        1,       36,        1, 46154151,        3],\n",
       "       [      12,        1,       36,        0, 66055249,        3]])"
      ]
     },
     "execution_count": 94,
     "metadata": {},
     "output_type": "execute_result"
    }
   ],
   "source": [
    "loan_data_str"
   ]
  },
  {
   "cell_type": "code",
   "execution_count": 95,
   "id": "514e6ece-5f21-4730-9786-accf268c6712",
   "metadata": {},
   "outputs": [],
   "source": [
    "checkpoint_str =checkpoint(\"checkpoint-str\", header_str, loan_data_str)"
   ]
  },
  {
   "cell_type": "code",
   "execution_count": 96,
   "id": "c83fbcc5-8f4f-410f-8a0f-28146fdb3744",
   "metadata": {},
   "outputs": [
    {
     "data": {
      "text/plain": [
       "array(['issue_id', 'loan_status', 'term_months', 'sub_grade', 'verification_status',\n",
       "       'state_address'], dtype='<U19')"
      ]
     },
     "execution_count": 96,
     "metadata": {},
     "output_type": "execute_result"
    }
   ],
   "source": [
    "checkpoint_str[\"header\"]"
   ]
  },
  {
   "cell_type": "code",
   "execution_count": 97,
   "id": "aa10d5cd-9997-4896-9f76-04ff87dfae22",
   "metadata": {},
   "outputs": [
    {
     "data": {
      "text/plain": [
       "array([[       5,        1,       36,        1, 48010226,        1],\n",
       "       [       0,        1,       36,        1, 57693261,        4],\n",
       "       [       9,        1,       36,        1, 59432726,        4],\n",
       "       ...,\n",
       "       [       6,        1,       36,        1, 50415990,        1],\n",
       "       [       4,        1,       36,        1, 46154151,        3],\n",
       "       [      12,        1,       36,        0, 66055249,        3]])"
      ]
     },
     "execution_count": 97,
     "metadata": {},
     "output_type": "execute_result"
    }
   ],
   "source": [
    "checkpoint_str[\"data\"]"
   ]
  },
  {
   "cell_type": "code",
   "execution_count": 98,
   "id": "d0a28907-75e3-4fe6-ae8d-72a192f4c4c0",
   "metadata": {},
   "outputs": [
    {
     "data": {
      "text/plain": [
       "array([[48010226.  ,    35000.  ,    35000.  ,       13.33,     1184.86,     9452.96],\n",
       "       [57693261.  ,    30000.  ,    30000.  , 68616520.  ,      938.57,     4679.7 ],\n",
       "       [59432726.  ,    15000.  ,    15000.  , 68616520.  ,      494.86,     1969.83],\n",
       "       ...,\n",
       "       [50415990.  ,    10000.  ,    10000.  , 68616520.  , 68616520.  ,     2185.64],\n",
       "       [46154151.  , 68616520.  ,    10000.  ,       16.55,      354.3 ,     3199.4 ],\n",
       "       [66055249.  ,    10000.  ,    10000.  , 68616520.  ,      309.97,      301.9 ]])"
      ]
     },
     "execution_count": 98,
     "metadata": {},
     "output_type": "execute_result"
    }
   ],
   "source": [
    "loan_data_num"
   ]
  },
  {
   "cell_type": "code",
   "execution_count": 99,
   "id": "f0adcfbc-f901-4c39-bb37-e2e38a7a5aeb",
   "metadata": {},
   "outputs": [
    {
     "data": {
      "text/plain": [
       "0"
      ]
     },
     "execution_count": 99,
     "metadata": {},
     "output_type": "execute_result"
    }
   ],
   "source": [
    "np.isnan(loan_data_num).sum()"
   ]
  },
  {
   "cell_type": "code",
   "execution_count": 100,
   "id": "c4bb561e-ec1e-4c06-9787-315d757405b0",
   "metadata": {},
   "outputs": [
    {
     "data": {
      "text/plain": [
       "array(['id', 'loan_amnt', 'funded_amnt', 'int_rate', 'installment', 'total_pymnt'], dtype='<U19')"
      ]
     },
     "execution_count": 100,
     "metadata": {},
     "output_type": "execute_result"
    }
   ],
   "source": [
    "header_num"
   ]
  },
  {
   "cell_type": "code",
   "execution_count": 101,
   "id": "d25d7419-ef86-483f-b7ef-42c7ae84a2ac",
   "metadata": {},
   "outputs": [
    {
     "data": {
      "text/plain": [
       "68616520.0"
      ]
     },
     "execution_count": 101,
     "metadata": {},
     "output_type": "execute_result"
    }
   ],
   "source": [
    "temp_fill"
   ]
  },
  {
   "cell_type": "code",
   "execution_count": 102,
   "id": "61d4e454-0909-4573-bd05-769164e3a9a3",
   "metadata": {},
   "outputs": [
    {
     "data": {
      "text/plain": [
       "array([False, False, False, ..., False, False, False])"
      ]
     },
     "execution_count": 102,
     "metadata": {},
     "output_type": "execute_result"
    }
   ],
   "source": [
    "np.isin(loan_data_num[:,0],temp_fill)"
   ]
  },
  {
   "cell_type": "code",
   "execution_count": 103,
   "id": "391c3dde-28af-4c65-9a0a-879adddb4ecf",
   "metadata": {},
   "outputs": [
    {
     "data": {
      "text/plain": [
       "0"
      ]
     },
     "execution_count": 103,
     "metadata": {},
     "output_type": "execute_result"
    }
   ],
   "source": [
    "np.isin(loan_data_num[:,0],temp_fill).sum()"
   ]
  },
  {
   "cell_type": "code",
   "execution_count": 104,
   "id": "5f5a63fd-20c2-4c17-84af-77b173c534b3",
   "metadata": {},
   "outputs": [
    {
     "data": {
      "text/plain": [
       "array([[  373332.  ,         nan,     1000.  ,         nan,     1000.  ,         nan,        6.  ,\n",
       "              31.42,         nan,         nan,         nan,         nan,         nan,        0.  ],\n",
       "       [54015809.19,         nan,    15273.46,         nan,    15311.04,         nan,       16.62,\n",
       "             440.92,         nan,         nan,         nan,         nan,         nan,     3143.85],\n",
       "       [68616519.  ,         nan,    35000.  ,         nan,    35000.  ,         nan,       28.99,\n",
       "            1372.97,         nan,         nan,         nan,         nan,         nan,    41913.62]])"
      ]
     },
     "execution_count": 104,
     "metadata": {},
     "output_type": "execute_result"
    }
   ],
   "source": [
    "temp_stats"
   ]
  },
  {
   "cell_type": "code",
   "execution_count": 105,
   "id": "52329ea1-5dd9-4ee7-88b2-ad533ee45261",
   "metadata": {},
   "outputs": [
    {
     "data": {
      "text/plain": [
       "array([[  373332.  ,     1000.  ,     1000.  ,        6.  ,       31.42,        0.  ],\n",
       "       [54015809.19,    15273.46,    15311.04,       16.62,      440.92,     3143.85],\n",
       "       [68616519.  ,    35000.  ,    35000.  ,       28.99,     1372.97,    41913.62]])"
      ]
     },
     "execution_count": 105,
     "metadata": {},
     "output_type": "execute_result"
    }
   ],
   "source": [
    "temp_stats[:, column_num]"
   ]
  },
  {
   "cell_type": "code",
   "execution_count": 106,
   "id": "81482bd5-2fdb-4e02-8836-023ecb8e703e",
   "metadata": {},
   "outputs": [
    {
     "data": {
      "text/plain": [
       "array([ 0,  2,  4,  6,  7, 13], dtype=int64)"
      ]
     },
     "execution_count": 106,
     "metadata": {},
     "output_type": "execute_result"
    }
   ],
   "source": [
    "column_num"
   ]
  },
  {
   "cell_type": "code",
   "execution_count": 107,
   "id": "3aaa2fb9-59c5-4a9c-a93b-bb480e91a08c",
   "metadata": {},
   "outputs": [
    {
     "data": {
      "text/plain": [
       "array([35000., 30000., 15000., ..., 10000., 10000., 10000.])"
      ]
     },
     "execution_count": 107,
     "metadata": {},
     "output_type": "execute_result"
    }
   ],
   "source": [
    "loan_data_num[:,2]"
   ]
  },
  {
   "cell_type": "code",
   "execution_count": 108,
   "id": "1a13bbe9-c583-438f-8458-c515e4af0c58",
   "metadata": {},
   "outputs": [
    {
     "data": {
      "text/plain": [
       "array([35000., 30000., 15000., ..., 10000., 10000., 10000.])"
      ]
     },
     "execution_count": 108,
     "metadata": {},
     "output_type": "execute_result"
    }
   ],
   "source": [
    "loan_data_num[:,2] = np.where(loan_data_num[:,2] == temp_fill,\n",
    "                             temp_stats[0, column_num[2]],\n",
    "                             loan_data_num[:,2])\n",
    "loan_data_num[:,2]"
   ]
  },
  {
   "cell_type": "code",
   "execution_count": 109,
   "id": "fea81f6c-4aa5-4051-820e-1a15e948de52",
   "metadata": {},
   "outputs": [
    {
     "data": {
      "text/plain": [
       "array(['id', 'loan_amnt', 'funded_amnt', 'int_rate', 'installment', 'total_pymnt'], dtype='<U19')"
      ]
     },
     "execution_count": 109,
     "metadata": {},
     "output_type": "execute_result"
    }
   ],
   "source": [
    "header_num"
   ]
  },
  {
   "cell_type": "code",
   "execution_count": 110,
   "id": "cacbdf56-90d5-4d1e-bf1e-9b72e0d55fb0",
   "metadata": {},
   "outputs": [],
   "source": [
    "for i in [1,3,4,5]:\n",
    "    loan_data_num[:,i] = np.where(loan_data_num[:,i] == temp_fill,\n",
    "                                  temp_stats[2, column_num[i]],\n",
    "                                 loan_data_num[:,i]) "
   ]
  },
  {
   "cell_type": "code",
   "execution_count": 111,
   "id": "6e4e070b-2447-4dd4-b62c-0d04fdc7156c",
   "metadata": {},
   "outputs": [
    {
     "data": {
      "text/plain": [
       "array([[48010226.  ,    35000.  ,    35000.  ,       13.33,     1184.86,     9452.96],\n",
       "       [57693261.  ,    30000.  ,    30000.  ,       28.99,      938.57,     4679.7 ],\n",
       "       [59432726.  ,    15000.  ,    15000.  ,       28.99,      494.86,     1969.83],\n",
       "       ...,\n",
       "       [50415990.  ,    10000.  ,    10000.  ,       28.99,     1372.97,     2185.64],\n",
       "       [46154151.  ,    35000.  ,    10000.  ,       16.55,      354.3 ,     3199.4 ],\n",
       "       [66055249.  ,    10000.  ,    10000.  ,       28.99,      309.97,      301.9 ]])"
      ]
     },
     "execution_count": 111,
     "metadata": {},
     "output_type": "execute_result"
    }
   ],
   "source": [
    "loan_data_num"
   ]
  },
  {
   "cell_type": "code",
   "execution_count": 112,
   "id": "59c1166e-2349-4343-affa-ab31353b9e7f",
   "metadata": {},
   "outputs": [
    {
     "data": {
      "text/plain": [
       "array([['Open', 'High', 'Low', 'Close', 'Volume'],\n",
       "       ['1.2098628282546997', '1.2098628282546997', '1.11055588722229', '1.1287955045700073', '0'],\n",
       "       ['1.1287955045700073', '1.1484194993972778', '1.117680549621582', '1.1205360889434814',\n",
       "        '0'],\n",
       "       ['1.119795799255371', '1.1240400075912476', '1.0460032224655151', '1.0830246210098267',\n",
       "        '0'],\n",
       "       ['1.0741022825241089', '1.1247594356536865', '1.0521597862243652', '1.1114321947097778',\n",
       "        '0'],\n",
       "       ['1.1215037107467651', '1.145304799079895', '1.0821995735168457', '1.0960345268249512',\n",
       "        '0'],\n",
       "       ['1.095902442932129', '1.1428401470184326', '1.0888904333114624', '1.122296690940857', '0'],\n",
       "       ['1.1134989261627197', '1.1219995021820068', '1.081270456314087', '1.0939244031906128',\n",
       "        '0'],\n",
       "       ['1.0969001054763794', '1.1705996990203857', '1.0850305557250977', '1.1340054273605347',\n",
       "        '0'],\n",
       "       ['1.1225990056991577', '1.1460003852844238', '1.1089695692062378', '1.1255937814712524',\n",
       "        '0'],\n",
       "       ['1.1171561479568481', '1.1494200229644775', '1.0910003185272217', '1.100897192955017',\n",
       "        '0'],\n",
       "       ['1.1024993658065796', '1.1060001850128174', '1.056400179862976', '1.0583018064498901',\n",
       "        '0'],\n",
       "       ['1.0572947263717651', '1.107000470161438', '1.0541995763778687', '1.093398094177246', '0']],\n",
       "      dtype='<U18')"
      ]
     },
     "execution_count": 112,
     "metadata": {},
     "output_type": "execute_result"
    }
   ],
   "source": [
    "eur_usd = np.genfromtxt(\"EUR-USD.csv\", delimiter =',', autostrip =True,dtype =np.str_ )\n",
    "eur_usd"
   ]
  },
  {
   "cell_type": "code",
   "execution_count": 113,
   "id": "40163344-960b-4cb3-b8c5-4e4b2464793a",
   "metadata": {},
   "outputs": [
    {
     "data": {
      "text/plain": [
       "array([1.13, 1.12, 1.08, 1.11, 1.1 , 1.12, 1.09, 1.13, 1.13, 1.1 , 1.06, 1.09])"
      ]
     },
     "execution_count": 113,
     "metadata": {},
     "output_type": "execute_result"
    }
   ],
   "source": [
    "eur_usd = np.genfromtxt(\"EUR-USD.csv\", delimiter =',', autostrip =True, skip_header =1, usecols= 3 )\n",
    "eur_usd"
   ]
  },
  {
   "cell_type": "code",
   "execution_count": 114,
   "id": "c81bac41-fa9f-44a3-9ca4-010fae68301d",
   "metadata": {},
   "outputs": [
    {
     "data": {
      "text/plain": [
       "array([ 5,  0,  9, ...,  6,  4, 12])"
      ]
     },
     "execution_count": 114,
     "metadata": {},
     "output_type": "execute_result"
    }
   ],
   "source": [
    "loan_data_str[:,0]"
   ]
  },
  {
   "cell_type": "code",
   "execution_count": 115,
   "id": "3a0922a3-62ff-4093-97c0-f8dbeaf914dd",
   "metadata": {},
   "outputs": [
    {
     "data": {
      "text/plain": [
       "array([1.1 , 1.11, 1.13, ..., 1.12, 1.11, 1.09])"
      ]
     },
     "execution_count": 115,
     "metadata": {},
     "output_type": "execute_result"
    }
   ],
   "source": [
    "exchange_rate = loan_data_str[:,0]\n",
    "\n",
    "for i in range(1,13):\n",
    "   exchange_rate = np.where(exchange_rate == i,\n",
    "                            eur_usd[i-1],\n",
    "                           exchange_rate)\n",
    "exchange_rate = np.where(exchange_rate == 0,\n",
    "                         np.mean(eur_usd),\n",
    "                        exchange_rate) \n",
    "\n",
    "exchange_rate"
   ]
  },
  {
   "cell_type": "code",
   "execution_count": 116,
   "id": "c4f3fdf4-c947-4bf6-bbad-74c5ff2dd010",
   "metadata": {},
   "outputs": [
    {
     "data": {
      "text/plain": [
       "(10000,)"
      ]
     },
     "execution_count": 116,
     "metadata": {},
     "output_type": "execute_result"
    }
   ],
   "source": [
    "exchange_rate.shape"
   ]
  },
  {
   "cell_type": "code",
   "execution_count": 117,
   "id": "f8c59e94-7949-493d-ba83-a3cc65e8435e",
   "metadata": {},
   "outputs": [
    {
     "data": {
      "text/plain": [
       "(10000, 6)"
      ]
     },
     "execution_count": 117,
     "metadata": {},
     "output_type": "execute_result"
    }
   ],
   "source": [
    "loan_data_num.shape"
   ]
  },
  {
   "cell_type": "code",
   "execution_count": 118,
   "id": "2516a0b3-694c-4a00-835c-95c6a830c800",
   "metadata": {},
   "outputs": [],
   "source": [
    "exchange_rate = np.reshape(exchange_rate, (10000,1))"
   ]
  },
  {
   "cell_type": "code",
   "execution_count": 119,
   "id": "6badac41-d82b-4343-8d07-a0332cb38f9f",
   "metadata": {},
   "outputs": [
    {
     "data": {
      "text/plain": [
       "array([[48010226.  ,    35000.  ,    35000.  , ...,     1184.86,     9452.96,        1.1 ],\n",
       "       [57693261.  ,    30000.  ,    30000.  , ...,      938.57,     4679.7 ,        1.11],\n",
       "       [59432726.  ,    15000.  ,    15000.  , ...,      494.86,     1969.83,        1.13],\n",
       "       ...,\n",
       "       [50415990.  ,    10000.  ,    10000.  , ...,     1372.97,     2185.64,        1.12],\n",
       "       [46154151.  ,    35000.  ,    10000.  , ...,      354.3 ,     3199.4 ,        1.11],\n",
       "       [66055249.  ,    10000.  ,    10000.  , ...,      309.97,      301.9 ,        1.09]])"
      ]
     },
     "execution_count": 119,
     "metadata": {},
     "output_type": "execute_result"
    }
   ],
   "source": [
    "np.hstack((loan_data_num, exchange_rate))"
   ]
  },
  {
   "cell_type": "code",
   "execution_count": 120,
   "id": "c14b9db1-77fc-44f6-aa94-a2465128626f",
   "metadata": {},
   "outputs": [],
   "source": [
    "loan_data_num = np.hstack((loan_data_num, exchange_rate))"
   ]
  },
  {
   "cell_type": "code",
   "execution_count": 121,
   "id": "edffd602-9230-455d-b674-255c23dce78d",
   "metadata": {},
   "outputs": [
    {
     "data": {
      "text/plain": [
       "array([[48010226.  ,    35000.  ,    35000.  , ...,     1184.86,     9452.96,        1.1 ],\n",
       "       [57693261.  ,    30000.  ,    30000.  , ...,      938.57,     4679.7 ,        1.11],\n",
       "       [59432726.  ,    15000.  ,    15000.  , ...,      494.86,     1969.83,        1.13],\n",
       "       ...,\n",
       "       [50415990.  ,    10000.  ,    10000.  , ...,     1372.97,     2185.64,        1.12],\n",
       "       [46154151.  ,    35000.  ,    10000.  , ...,      354.3 ,     3199.4 ,        1.11],\n",
       "       [66055249.  ,    10000.  ,    10000.  , ...,      309.97,      301.9 ,        1.09]])"
      ]
     },
     "execution_count": 121,
     "metadata": {},
     "output_type": "execute_result"
    }
   ],
   "source": [
    "loan_data_num"
   ]
  },
  {
   "cell_type": "code",
   "execution_count": 122,
   "id": "2dca0fac-e47a-4a9c-9ba0-82e85a2ba2ca",
   "metadata": {},
   "outputs": [
    {
     "data": {
      "text/plain": [
       "array(['id', 'loan_amnt', 'funded_amnt', 'int_rate', 'installment', 'total_pymnt'], dtype='<U19')"
      ]
     },
     "execution_count": 122,
     "metadata": {},
     "output_type": "execute_result"
    }
   ],
   "source": [
    "header_num"
   ]
  },
  {
   "cell_type": "code",
   "execution_count": 123,
   "id": "ec64981c-2a8e-479a-87d7-6b1803ad7c13",
   "metadata": {},
   "outputs": [
    {
     "data": {
      "text/plain": [
       "array(['id', 'loan_amnt', 'funded_amnt', 'int_rate', 'installment', 'total_pymnt',\n",
       "       'exchange_rates'], dtype='<U19')"
      ]
     },
     "execution_count": 123,
     "metadata": {},
     "output_type": "execute_result"
    }
   ],
   "source": [
    "header_num = np.concatenate(( header_num, np.array([\"exchange_rates\"])))\n",
    "header_num"
   ]
  },
  {
   "cell_type": "code",
   "execution_count": 124,
   "id": "e56a0e16-969d-4410-80e3-b938c34a71a6",
   "metadata": {},
   "outputs": [
    {
     "data": {
      "text/plain": [
       "array(['id', 'loan_amnt', 'funded_amnt', 'int_rate', 'installment', 'total_pymnt',\n",
       "       'exchange_rates'], dtype='<U19')"
      ]
     },
     "execution_count": 124,
     "metadata": {},
     "output_type": "execute_result"
    }
   ],
   "source": [
    "header_num"
   ]
  },
  {
   "cell_type": "code",
   "execution_count": 125,
   "id": "5fb47122-1096-4349-8842-138458a51724",
   "metadata": {},
   "outputs": [],
   "source": [
    "column_dollars = np.array([1,2,4,5])"
   ]
  },
  {
   "cell_type": "code",
   "execution_count": 126,
   "id": "9fe8b307-92f0-40ef-8920-971703801406",
   "metadata": {},
   "outputs": [
    {
     "data": {
      "text/plain": [
       "array([[35000.  , 35000.  ,  1184.86,  9452.96],\n",
       "       [30000.  , 30000.  ,   938.57,  4679.7 ],\n",
       "       [15000.  , 15000.  ,   494.86,  1969.83],\n",
       "       ...,\n",
       "       [10000.  , 10000.  ,  1372.97,  2185.64],\n",
       "       [35000.  , 10000.  ,   354.3 ,  3199.4 ],\n",
       "       [10000.  , 10000.  ,   309.97,   301.9 ]])"
      ]
     },
     "execution_count": 126,
     "metadata": {},
     "output_type": "execute_result"
    }
   ],
   "source": [
    "loan_data_num[:,[1,2,4,5]]"
   ]
  },
  {
   "cell_type": "code",
   "execution_count": 127,
   "id": "dd8c5e61-1557-4f83-bc31-69be12d232ae",
   "metadata": {},
   "outputs": [
    {
     "data": {
      "text/plain": [
       "array([[[35000.  , 35000.  ,  1184.86,  9452.96]],\n",
       "\n",
       "       [[30000.  , 30000.  ,   938.57,  4679.7 ]],\n",
       "\n",
       "       [[15000.  , 15000.  ,   494.86,  1969.83]],\n",
       "\n",
       "       ...,\n",
       "\n",
       "       [[10000.  , 10000.  ,  1372.97,  2185.64]],\n",
       "\n",
       "       [[35000.  , 10000.  ,   354.3 ,  3199.4 ]],\n",
       "\n",
       "       [[10000.  , 10000.  ,   309.97,   301.9 ]]])"
      ]
     },
     "execution_count": 127,
     "metadata": {},
     "output_type": "execute_result"
    }
   ],
   "source": [
    "loan_data_num[:,[column_dollars]]"
   ]
  },
  {
   "cell_type": "code",
   "execution_count": 128,
   "id": "4812868f-2ebb-466c-91ff-2ca70a66a30d",
   "metadata": {},
   "outputs": [
    {
     "data": {
      "text/plain": [
       "array([1.1 , 1.11, 1.13, ..., 1.12, 1.11, 1.09])"
      ]
     },
     "execution_count": 128,
     "metadata": {},
     "output_type": "execute_result"
    }
   ],
   "source": [
    "loan_data_num[:,6]"
   ]
  },
  {
   "cell_type": "code",
   "execution_count": 129,
   "id": "f5cf1384-48db-41ee-90ff-e3f1cdbf0bf0",
   "metadata": {},
   "outputs": [],
   "source": [
    "for i in column_dollars:\n",
    "    loan_data_num = np.hstack((loan_data_num, np.reshape(loan_data_num[:,i] / loan_data_num[:,6], (10000,1))))"
   ]
  },
  {
   "cell_type": "code",
   "execution_count": 130,
   "id": "44193972-fb92-40fb-a7c2-baac1b06d2e5",
   "metadata": {},
   "outputs": [
    {
     "data": {
      "text/plain": [
       "array([[48010226.  ,    35000.  ,    35000.  , ...,    31933.3 ,     1081.04,     8624.69],\n",
       "       [57693261.  ,    30000.  ,    30000.  , ...,    27132.46,      848.86,     4232.39],\n",
       "       [59432726.  ,    15000.  ,    15000.  , ...,    13326.3 ,      439.64,     1750.04],\n",
       "       ...,\n",
       "       [50415990.  ,    10000.  ,    10000.  , ...,     8910.3 ,     1223.36,     1947.47],\n",
       "       [46154151.  ,    35000.  ,    10000.  , ...,     8997.4 ,      318.78,     2878.63],\n",
       "       [66055249.  ,    10000.  ,    10000.  , ...,     9145.8 ,      283.49,      276.11]])"
      ]
     },
     "execution_count": 130,
     "metadata": {},
     "output_type": "execute_result"
    }
   ],
   "source": [
    "loan_data_num"
   ]
  },
  {
   "cell_type": "code",
   "execution_count": 131,
   "id": "319949da-5a4f-4ca0-b13b-26722dba9837",
   "metadata": {},
   "outputs": [
    {
     "data": {
      "text/plain": [
       "(10000, 11)"
      ]
     },
     "execution_count": 131,
     "metadata": {},
     "output_type": "execute_result"
    }
   ],
   "source": [
    "loan_data_num.shape"
   ]
  },
  {
   "cell_type": "code",
   "execution_count": 132,
   "id": "3b32103c-4316-48f7-82ab-fa427d15d222",
   "metadata": {},
   "outputs": [],
   "source": [
    "header_add= np.array([column_name + '_EUR' for column_name in header_num[column_dollars]])"
   ]
  },
  {
   "cell_type": "code",
   "execution_count": 133,
   "id": "33202975-050d-4189-a8a8-eeab358add59",
   "metadata": {},
   "outputs": [
    {
     "data": {
      "text/plain": [
       "array(['loan_amnt_EUR', 'funded_amnt_EUR', 'installment_EUR', 'total_pymnt_EUR'], dtype='<U15')"
      ]
     },
     "execution_count": 133,
     "metadata": {},
     "output_type": "execute_result"
    }
   ],
   "source": [
    "header_add"
   ]
  },
  {
   "cell_type": "code",
   "execution_count": 134,
   "id": "5bbe259c-77a8-456e-a683-33754beed3c8",
   "metadata": {},
   "outputs": [],
   "source": [
    "header_num = np.concatenate((header_num,header_add))"
   ]
  },
  {
   "cell_type": "code",
   "execution_count": 135,
   "id": "e7e848ee-9069-4670-a4b9-51d593e1d67b",
   "metadata": {},
   "outputs": [
    {
     "data": {
      "text/plain": [
       "array(['id', 'loan_amnt', 'funded_amnt', 'int_rate', 'installment', 'total_pymnt',\n",
       "       'exchange_rates', 'loan_amnt_EUR', 'funded_amnt_EUR', 'installment_EUR', 'total_pymnt_EUR'],\n",
       "      dtype='<U19')"
      ]
     },
     "execution_count": 135,
     "metadata": {},
     "output_type": "execute_result"
    }
   ],
   "source": [
    "header_num"
   ]
  },
  {
   "cell_type": "code",
   "execution_count": 136,
   "id": "4e76a3b1-b7bc-4ef0-833d-d60434dec8d7",
   "metadata": {},
   "outputs": [],
   "source": [
    "header_num[column_dollars]= np.array([column_name + '_USD' for column_name in header_num[column_dollars]])"
   ]
  },
  {
   "cell_type": "code",
   "execution_count": 137,
   "id": "8f21625b-13d0-4f43-986c-5b8dd342da8a",
   "metadata": {},
   "outputs": [
    {
     "data": {
      "text/plain": [
       "array(['id', 'loan_amnt_USD', 'funded_amnt_USD', 'int_rate', 'installment_USD', 'total_pymnt_USD',\n",
       "       'exchange_rates', 'loan_amnt_EUR', 'funded_amnt_EUR', 'installment_EUR', 'total_pymnt_EUR'],\n",
       "      dtype='<U19')"
      ]
     },
     "execution_count": 137,
     "metadata": {},
     "output_type": "execute_result"
    }
   ],
   "source": [
    "header_num"
   ]
  },
  {
   "cell_type": "code",
   "execution_count": 138,
   "id": "aa68bdfb-5646-4e9e-811b-ec5a39311b32",
   "metadata": {},
   "outputs": [],
   "source": [
    "column_index_order = [0,1,7,2,8,3,4,9,5,10,6]"
   ]
  },
  {
   "cell_type": "code",
   "execution_count": 139,
   "id": "a0ca5f8b-9f69-44f2-89fa-78c1bb84b38f",
   "metadata": {},
   "outputs": [
    {
     "data": {
      "text/plain": [
       "array(['id', 'loan_amnt_USD', 'loan_amnt_EUR', 'funded_amnt_USD', 'funded_amnt_EUR', 'int_rate',\n",
       "       'installment_USD', 'installment_EUR', 'total_pymnt_USD', 'total_pymnt_EUR',\n",
       "       'exchange_rates'], dtype='<U19')"
      ]
     },
     "execution_count": 139,
     "metadata": {},
     "output_type": "execute_result"
    }
   ],
   "source": [
    "header_num[column_index_order]"
   ]
  },
  {
   "cell_type": "code",
   "execution_count": 140,
   "id": "13056c91-81a9-4e92-9ee1-06f19469b43e",
   "metadata": {},
   "outputs": [],
   "source": [
    "header_num = header_num[column_index_order]"
   ]
  },
  {
   "cell_type": "code",
   "execution_count": 141,
   "id": "370b807e-f400-40c3-8ce2-d837e0a0a5fc",
   "metadata": {},
   "outputs": [
    {
     "data": {
      "text/plain": [
       "array(['id', 'loan_amnt_USD', 'loan_amnt_EUR', 'funded_amnt_USD', 'funded_amnt_EUR', 'int_rate',\n",
       "       'installment_USD', 'installment_EUR', 'total_pymnt_USD', 'total_pymnt_EUR',\n",
       "       'exchange_rates'], dtype='<U19')"
      ]
     },
     "execution_count": 141,
     "metadata": {},
     "output_type": "execute_result"
    }
   ],
   "source": [
    "header_num"
   ]
  },
  {
   "cell_type": "code",
   "execution_count": 142,
   "id": "1edceb43-5daf-4248-9691-f6ac5c9bc001",
   "metadata": {},
   "outputs": [],
   "source": [
    "loan_data_num = loan_data_num[:,column_index_order] "
   ]
  },
  {
   "cell_type": "code",
   "execution_count": 143,
   "id": "6111d8a6-afba-4b92-a9bc-c7394ff13282",
   "metadata": {},
   "outputs": [
    {
     "data": {
      "text/plain": [
       "array([[48010226.  ,    35000.  ,    31933.3 , ...,     9452.96,     8624.69,        1.1 ],\n",
       "       [57693261.  ,    30000.  ,    27132.46, ...,     4679.7 ,     4232.39,        1.11],\n",
       "       [59432726.  ,    15000.  ,    13326.3 , ...,     1969.83,     1750.04,        1.13],\n",
       "       ...,\n",
       "       [50415990.  ,    10000.  ,     8910.3 , ...,     2185.64,     1947.47,        1.12],\n",
       "       [46154151.  ,    35000.  ,    31490.9 , ...,     3199.4 ,     2878.63,        1.11],\n",
       "       [66055249.  ,    10000.  ,     9145.8 , ...,      301.9 ,      276.11,        1.09]])"
      ]
     },
     "execution_count": 143,
     "metadata": {},
     "output_type": "execute_result"
    }
   ],
   "source": [
    "loan_data_num"
   ]
  },
  {
   "cell_type": "code",
   "execution_count": 144,
   "id": "ffaea6cf-a05d-49b4-bf17-c58e225b6df1",
   "metadata": {},
   "outputs": [
    {
     "data": {
      "text/plain": [
       "(10000, 11)"
      ]
     },
     "execution_count": 144,
     "metadata": {},
     "output_type": "execute_result"
    }
   ],
   "source": [
    "loan_data_num.shape"
   ]
  },
  {
   "cell_type": "code",
   "execution_count": 145,
   "id": "6a583415-83cd-45f5-aeea-32fbe273ed0c",
   "metadata": {},
   "outputs": [
    {
     "data": {
      "text/plain": [
       "array(['id', 'loan_amnt_USD', 'loan_amnt_EUR', 'funded_amnt_USD', 'funded_amnt_EUR', 'int_rate',\n",
       "       'installment_USD', 'installment_EUR', 'total_pymnt_USD', 'total_pymnt_EUR',\n",
       "       'exchange_rates'], dtype='<U19')"
      ]
     },
     "execution_count": 145,
     "metadata": {},
     "output_type": "execute_result"
    }
   ],
   "source": [
    "header_num"
   ]
  },
  {
   "cell_type": "code",
   "execution_count": 146,
   "id": "6a683513-954b-4918-b15f-a91bbc8b8f6a",
   "metadata": {},
   "outputs": [
    {
     "data": {
      "text/plain": [
       "array([13.33, 28.99, 28.99, ..., 28.99, 16.55, 28.99])"
      ]
     },
     "execution_count": 146,
     "metadata": {},
     "output_type": "execute_result"
    }
   ],
   "source": [
    "loan_data_num[:,5]"
   ]
  },
  {
   "cell_type": "code",
   "execution_count": 147,
   "id": "095373ea-cceb-4234-9971-4e4ec2a47432",
   "metadata": {},
   "outputs": [
    {
     "data": {
      "text/plain": [
       "array([0.13, 0.29, 0.29, ..., 0.29, 0.17, 0.29])"
      ]
     },
     "execution_count": 147,
     "metadata": {},
     "output_type": "execute_result"
    }
   ],
   "source": [
    "loan_data_num[:,5] / 100"
   ]
  },
  {
   "cell_type": "code",
   "execution_count": 148,
   "id": "40e55053-0a8d-4d87-a9ee-c8f5e43c81cf",
   "metadata": {},
   "outputs": [],
   "source": [
    "loan_data_num[:,5] = loan_data_num[:,5] / 100"
   ]
  },
  {
   "cell_type": "code",
   "execution_count": 149,
   "id": "3b4f5d1a-e1de-4c08-ad6d-ad97d1fb52b2",
   "metadata": {},
   "outputs": [
    {
     "data": {
      "text/plain": [
       "array([0.13, 0.29, 0.29, ..., 0.29, 0.17, 0.29])"
      ]
     },
     "execution_count": 149,
     "metadata": {},
     "output_type": "execute_result"
    }
   ],
   "source": [
    "loan_data_num[:,5]"
   ]
  },
  {
   "cell_type": "code",
   "execution_count": 151,
   "id": "66a23e46-2ef9-4595-8758-132d723701bf",
   "metadata": {},
   "outputs": [
    {
     "data": {
      "text/plain": [
       "(array(['id', 'loan_amnt_USD', 'loan_amnt_EUR', 'funded_amnt_USD', 'funded_amnt_EUR', 'int_rate',\n",
       "        'installment_USD', 'installment_EUR', 'total_pymnt_USD', 'total_pymnt_EUR',\n",
       "        'exchange_rates'], dtype='<U19'),\n",
       " array([[48010226.  ,    35000.  ,    31933.3 , ...,     9452.96,     8624.69,        1.1 ],\n",
       "        [57693261.  ,    30000.  ,    27132.46, ...,     4679.7 ,     4232.39,        1.11],\n",
       "        [59432726.  ,    15000.  ,    13326.3 , ...,     1969.83,     1750.04,        1.13],\n",
       "        ...,\n",
       "        [50415990.  ,    10000.  ,     8910.3 , ...,     2185.64,     1947.47,        1.12],\n",
       "        [46154151.  ,    35000.  ,    31490.9 , ...,     3199.4 ,     2878.63,        1.11],\n",
       "        [66055249.  ,    10000.  ,     9145.8 , ...,      301.9 ,      276.11,        1.09]]))"
      ]
     },
     "execution_count": 151,
     "metadata": {},
     "output_type": "execute_result"
    }
   ],
   "source": [
    "checkpoint_num = checkpoint('checkpoint-num', header_num, loan_data_num)\n",
    "checkpoint_num['header'], checkpoint_num['data']"
   ]
  },
  {
   "cell_type": "code",
   "execution_count": 153,
   "id": "e765f73c-5eda-46c5-9003-788b6b0cadb1",
   "metadata": {},
   "outputs": [
    {
     "data": {
      "text/plain": [
       "(10000, 6)"
      ]
     },
     "execution_count": 153,
     "metadata": {},
     "output_type": "execute_result"
    }
   ],
   "source": [
    "checkpoint_str[\"data\"].shape"
   ]
  },
  {
   "cell_type": "code",
   "execution_count": 155,
   "id": "463f7f44-91ff-434b-bd88-9689de2449c4",
   "metadata": {},
   "outputs": [
    {
     "data": {
      "text/plain": [
       "(10000, 11)"
      ]
     },
     "execution_count": 155,
     "metadata": {},
     "output_type": "execute_result"
    }
   ],
   "source": [
    "checkpoint_num[\"data\"].shape"
   ]
  },
  {
   "cell_type": "code",
   "execution_count": 157,
   "id": "fba83f6b-8725-4a60-82da-b3cb9b841e78",
   "metadata": {},
   "outputs": [
    {
     "data": {
      "text/plain": [
       "array([[48010226.  ,    35000.  ,    31933.3 , ...,        1.  , 48010226.  ,        1.  ],\n",
       "       [57693261.  ,    30000.  ,    27132.46, ...,        1.  , 57693261.  ,        4.  ],\n",
       "       [59432726.  ,    15000.  ,    13326.3 , ...,        1.  , 59432726.  ,        4.  ],\n",
       "       ...,\n",
       "       [50415990.  ,    10000.  ,     8910.3 , ...,        1.  , 50415990.  ,        1.  ],\n",
       "       [46154151.  ,    35000.  ,    31490.9 , ...,        1.  , 46154151.  ,        3.  ],\n",
       "       [66055249.  ,    10000.  ,     9145.8 , ...,        0.  , 66055249.  ,        3.  ]])"
      ]
     },
     "execution_count": 157,
     "metadata": {},
     "output_type": "execute_result"
    }
   ],
   "source": [
    "np.hstack((checkpoint_num[\"data\"], checkpoint_str[\"data\"]))"
   ]
  },
  {
   "cell_type": "code",
   "execution_count": 159,
   "id": "52c3e419-35be-4107-84b0-6883d4640a33",
   "metadata": {},
   "outputs": [],
   "source": [
    "loan_data = np.hstack((checkpoint_num[\"data\"], checkpoint_str[\"data\"]))"
   ]
  },
  {
   "cell_type": "code",
   "execution_count": 161,
   "id": "8f633167-8524-4ef8-9a22-9f8783a32f03",
   "metadata": {},
   "outputs": [
    {
     "data": {
      "text/plain": [
       "array([[48010226.  ,    35000.  ,    31933.3 , ...,        1.  , 48010226.  ,        1.  ],\n",
       "       [57693261.  ,    30000.  ,    27132.46, ...,        1.  , 57693261.  ,        4.  ],\n",
       "       [59432726.  ,    15000.  ,    13326.3 , ...,        1.  , 59432726.  ,        4.  ],\n",
       "       ...,\n",
       "       [50415990.  ,    10000.  ,     8910.3 , ...,        1.  , 50415990.  ,        1.  ],\n",
       "       [46154151.  ,    35000.  ,    31490.9 , ...,        1.  , 46154151.  ,        3.  ],\n",
       "       [66055249.  ,    10000.  ,     9145.8 , ...,        0.  , 66055249.  ,        3.  ]])"
      ]
     },
     "execution_count": 161,
     "metadata": {},
     "output_type": "execute_result"
    }
   ],
   "source": [
    "loan_data"
   ]
  },
  {
   "cell_type": "code",
   "execution_count": 163,
   "id": "a5f27b54-9f1a-46a4-b816-bb4260e7ddd3",
   "metadata": {},
   "outputs": [
    {
     "data": {
      "text/plain": [
       "0"
      ]
     },
     "execution_count": 163,
     "metadata": {},
     "output_type": "execute_result"
    }
   ],
   "source": [
    "np.isnan(loan_data).sum()"
   ]
  },
  {
   "cell_type": "code",
   "execution_count": 165,
   "id": "730502fb-c949-4ce7-a238-1664bbf594ff",
   "metadata": {},
   "outputs": [
    {
     "data": {
      "text/plain": [
       "array(['id', 'loan_amnt_USD', 'loan_amnt_EUR', 'funded_amnt_USD', 'funded_amnt_EUR', 'int_rate',\n",
       "       'installment_USD', 'installment_EUR', 'total_pymnt_USD', 'total_pymnt_EUR',\n",
       "       'exchange_rates', 'issue_id', 'loan_status', 'term_months', 'sub_grade',\n",
       "       'verification_status', 'state_address'], dtype='<U19')"
      ]
     },
     "execution_count": 165,
     "metadata": {},
     "output_type": "execute_result"
    }
   ],
   "source": [
    "np.concatenate((checkpoint_num[\"header\"], checkpoint_str[\"header\"]))"
   ]
  },
  {
   "cell_type": "code",
   "execution_count": 167,
   "id": "5924fa36-ebf7-4fee-a03b-a9482f242474",
   "metadata": {},
   "outputs": [],
   "source": [
    "header_loan = np.concatenate((checkpoint_num[\"header\"], checkpoint_str[\"header\"]))"
   ]
  },
  {
   "cell_type": "code",
   "execution_count": 177,
   "id": "bd0457ed-f5d2-4c3d-9d9c-8ffd3c902e9e",
   "metadata": {},
   "outputs": [],
   "source": [
    "loan_data = loan_data[np.argsort(loan_data[:,0])]"
   ]
  },
  {
   "cell_type": "code",
   "execution_count": 179,
   "id": "7f82d80c-5111-455a-b460-376cc9c4fb8d",
   "metadata": {},
   "outputs": [
    {
     "data": {
      "text/plain": [
       "array([[  373332.  ,     9950.  ,     9038.08, ...,        0.  ,   373332.  ,        1.  ],\n",
       "       [  575239.  ,    12000.  ,    10900.2 , ...,        1.  ,   575239.  ,        2.  ],\n",
       "       [  707689.  ,    10000.  ,     8924.3 , ...,        1.  ,   707689.  ,        0.  ],\n",
       "       ...,\n",
       "       [68614880.  ,     5600.  ,     5121.65, ...,        1.  , 68614880.  ,        1.  ],\n",
       "       [68615915.  ,     4000.  ,     3658.32, ...,        1.  , 68615915.  ,        2.  ],\n",
       "       [68616519.  ,    21600.  ,    19754.93, ...,        0.  , 68616519.  ,        2.  ]])"
      ]
     },
     "execution_count": 179,
     "metadata": {},
     "output_type": "execute_result"
    }
   ],
   "source": [
    "loan_data"
   ]
  },
  {
   "cell_type": "code",
   "execution_count": 203,
   "id": "08b991f3-9490-448e-9332-fa76bac46a73",
   "metadata": {},
   "outputs": [
    {
     "data": {
      "text/plain": [
       "array([['id', 'loan_amnt_USD', 'loan_amnt_EUR', ..., 'sub_grade', 'verification_status',\n",
       "        'state_address'],\n",
       "       ['373332.0', '9950.0', '9038.082814338286', ..., '0.0', '373332.0', '1.0'],\n",
       "       ['575239.0', '12000.0', '10900.20037910145', ..., '1.0', '575239.0', '2.0'],\n",
       "       ...,\n",
       "       ['68614880.0', '5600.0', '5121.647851612413', ..., '1.0', '68614880.0', '1.0'],\n",
       "       ['68615915.0', '4000.0', '3658.319894008867', ..., '1.0', '68615915.0', '2.0'],\n",
       "       ['68616519.0', '21600.0', '19754.927427647883', ..., '0.0', '68616519.0', '2.0']],\n",
       "      dtype='<U32')"
      ]
     },
     "execution_count": 203,
     "metadata": {},
     "output_type": "execute_result"
    }
   ],
   "source": [
    "np.vstack((header_loan, loan_data))"
   ]
  },
  {
   "cell_type": "code",
   "execution_count": 205,
   "id": "ff9f757b-a8db-4ffc-ab69-155a618a225c",
   "metadata": {},
   "outputs": [],
   "source": [
    "loan_data = np.vstack((header_loan, loan_data))"
   ]
  },
  {
   "cell_type": "code",
   "execution_count": 209,
   "id": "9a66dc5f-4d11-43d2-8dfc-5731907e81dc",
   "metadata": {},
   "outputs": [],
   "source": [
    "np.savetxt(\"Loan-Data-pre.csv\", loan_data,\n",
    "           fmt = \"%s\", \n",
    "           delimiter = ',')"
   ]
  },
  {
   "cell_type": "code",
   "execution_count": null,
   "id": "2e686b0a-ee51-45ab-a6d8-751cc6a0a1d4",
   "metadata": {},
   "outputs": [],
   "source": []
  }
 ],
 "metadata": {
  "kernelspec": {
   "display_name": "Python 3 (ipykernel)",
   "language": "python",
   "name": "python3"
  },
  "language_info": {
   "codemirror_mode": {
    "name": "ipython",
    "version": 3
   },
   "file_extension": ".py",
   "mimetype": "text/x-python",
   "name": "python",
   "nbconvert_exporter": "python",
   "pygments_lexer": "ipython3",
   "version": "3.12.4"
  }
 },
 "nbformat": 4,
 "nbformat_minor": 5
}
